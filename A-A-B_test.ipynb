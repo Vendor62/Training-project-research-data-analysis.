{
 "cells": [
  {
   "cell_type": "markdown",
   "id": "1834ddcf-b1b5-45cf-92f8-cfe012f4bd50",
   "metadata": {},
   "source": [
    "# Проектная работа: сборный проект №2"
   ]
  },
  {
   "cell_type": "markdown",
   "id": "cc90da5f-6438-430e-b88b-93f212f47e45",
   "metadata": {},
   "source": [
    "**Контекст:** для анализа предоставлены данные стартапа, который продаёт продукты питания. Нужно разобраться, как ведут себя пользователи мобильного приложения. Дизайнеры захотели поменять шрифты во всём приложении, а менеджеры испугались, что пользователям будет непривычно. Договорились принять решение по результатам A/A/B-теста. Пользователей разбили на 3 группы: 2 контрольные со старыми шрифтами и одну экспериментальную — с новыми. Необходимо проанализировать результат эксперимента."
   ]
  },
  {
   "cell_type": "markdown",
   "id": "5e4e10c1-abfe-4895-83b0-282927e5010e",
   "metadata": {},
   "source": [
    "## Загрузка данных"
   ]
  },
  {
   "cell_type": "code",
   "execution_count": 1,
   "id": "10d7b0de-0c0a-4317-a923-4c893481f5c8",
   "metadata": {},
   "outputs": [],
   "source": [
    "import re\n",
    "import numpy as np\n",
    "import math as mth\n",
    "import pandas as pd\n",
    "import datetime as dt\n",
    "import seaborn as sns\n",
    "import scipy.stats as st\n",
    "import matplotlib.pyplot as plt\n",
    "from statsmodels.stats.proportion import proportions_ztest"
   ]
  },
  {
   "cell_type": "code",
   "execution_count": 3,
   "id": "35f6bc84-ea83-4dd7-a8b0-614ca99cbf42",
   "metadata": {},
   "outputs": [],
   "source": [
    "df = pd.read_csv('D:\\\\ds\\\\logs_exp.csv', sep='\\t')\n",
    "pd.set_option('display.max_columns', None)\n",
    "pd.set_option('max_colwidth', 200)"
   ]
  },
  {
   "cell_type": "code",
   "execution_count": 4,
   "id": "de3213a5-9c75-4b0b-9709-3df50cb2f262",
   "metadata": {},
   "outputs": [],
   "source": [
    "def camel_to_snake(name):\n",
    "    s1 = re.sub('(.)([A-Z][a-z]+)', r'\\1_\\2', name)\n",
    "    return re.sub('([a-z0-9])([A-Z])', r'\\1_\\2', s1).lower()\n",
    "\n",
    "def prep(dataframe):\n",
    "    dataframe = dataframe.drop_duplicates().reset_index(drop=True)\n",
    "    dataframe.columns = [camel_to_snake(col) for col in dataframe.columns]\n",
    "    dataframe.columns = dataframe.columns.str.replace(' ', '_')\n",
    "    return dataframe\n",
    "\n",
    "def get_info(dataframe):\n",
    "    display(dataframe.head(5))\n",
    "    print('*'*50)\n",
    "    dataframe.info()\n",
    "    print('*'*50)\n",
    "    print(f\"Явных дубликатов: {dataframe.duplicated().sum()}\")\n",
    "    print('*'*25)\n",
    "    print('Пропусков в колонках:')\n",
    "    print(dataframe.isna().sum())"
   ]
  },
  {
   "cell_type": "markdown",
   "id": "ae502fa8-7376-48e6-8f14-3e804c266945",
   "metadata": {},
   "source": [
    "## Предобработка"
   ]
  },
  {
   "cell_type": "code",
   "execution_count": 5,
   "id": "a9c2094f-69f3-43e5-ab62-0938deecd00a",
   "metadata": {},
   "outputs": [
    {
     "data": {
      "text/html": [
       "<div>\n",
       "<style scoped>\n",
       "    .dataframe tbody tr th:only-of-type {\n",
       "        vertical-align: middle;\n",
       "    }\n",
       "\n",
       "    .dataframe tbody tr th {\n",
       "        vertical-align: top;\n",
       "    }\n",
       "\n",
       "    .dataframe thead th {\n",
       "        text-align: right;\n",
       "    }\n",
       "</style>\n",
       "<table border=\"1\" class=\"dataframe\">\n",
       "  <thead>\n",
       "    <tr style=\"text-align: right;\">\n",
       "      <th></th>\n",
       "      <th>event_name</th>\n",
       "      <th>device_id_hash</th>\n",
       "      <th>event_timestamp</th>\n",
       "      <th>exp_id</th>\n",
       "    </tr>\n",
       "  </thead>\n",
       "  <tbody>\n",
       "    <tr>\n",
       "      <th>0</th>\n",
       "      <td>MainScreenAppear</td>\n",
       "      <td>4575588528974610257</td>\n",
       "      <td>1564029816</td>\n",
       "      <td>246</td>\n",
       "    </tr>\n",
       "    <tr>\n",
       "      <th>1</th>\n",
       "      <td>MainScreenAppear</td>\n",
       "      <td>7416695313311560658</td>\n",
       "      <td>1564053102</td>\n",
       "      <td>246</td>\n",
       "    </tr>\n",
       "    <tr>\n",
       "      <th>2</th>\n",
       "      <td>PaymentScreenSuccessful</td>\n",
       "      <td>3518123091307005509</td>\n",
       "      <td>1564054127</td>\n",
       "      <td>248</td>\n",
       "    </tr>\n",
       "    <tr>\n",
       "      <th>3</th>\n",
       "      <td>CartScreenAppear</td>\n",
       "      <td>3518123091307005509</td>\n",
       "      <td>1564054127</td>\n",
       "      <td>248</td>\n",
       "    </tr>\n",
       "    <tr>\n",
       "      <th>4</th>\n",
       "      <td>PaymentScreenSuccessful</td>\n",
       "      <td>6217807653094995999</td>\n",
       "      <td>1564055322</td>\n",
       "      <td>248</td>\n",
       "    </tr>\n",
       "  </tbody>\n",
       "</table>\n",
       "</div>"
      ],
      "text/plain": [
       "                event_name       device_id_hash  event_timestamp  exp_id\n",
       "0         MainScreenAppear  4575588528974610257       1564029816     246\n",
       "1         MainScreenAppear  7416695313311560658       1564053102     246\n",
       "2  PaymentScreenSuccessful  3518123091307005509       1564054127     248\n",
       "3         CartScreenAppear  3518123091307005509       1564054127     248\n",
       "4  PaymentScreenSuccessful  6217807653094995999       1564055322     248"
      ]
     },
     "metadata": {},
     "output_type": "display_data"
    },
    {
     "name": "stdout",
     "output_type": "stream",
     "text": [
      "**************************************************\n",
      "<class 'pandas.core.frame.DataFrame'>\n",
      "RangeIndex: 243713 entries, 0 to 243712\n",
      "Data columns (total 4 columns):\n",
      " #   Column           Non-Null Count   Dtype \n",
      "---  ------           --------------   ----- \n",
      " 0   event_name       243713 non-null  object\n",
      " 1   device_id_hash   243713 non-null  int64 \n",
      " 2   event_timestamp  243713 non-null  int64 \n",
      " 3   exp_id           243713 non-null  int64 \n",
      "dtypes: int64(3), object(1)\n",
      "memory usage: 7.4+ MB\n",
      "**************************************************\n",
      "Явных дубликатов: 0\n",
      "*************************\n",
      "Пропусков в колонках:\n",
      "event_name         0\n",
      "device_id_hash     0\n",
      "event_timestamp    0\n",
      "exp_id             0\n",
      "dtype: int64\n"
     ]
    }
   ],
   "source": [
    "df = prep(df)\n",
    "get_info(df)"
   ]
  },
  {
   "cell_type": "markdown",
   "id": "5a626029-064c-403f-bc6d-03cec61c3eed",
   "metadata": {},
   "source": [
    "Скорректирую формат времени, добавлю столбец даты и времени, а также отдельный столбец дат."
   ]
  },
  {
   "cell_type": "code",
   "execution_count": 6,
   "id": "9084297a-2af1-4072-86d6-725f707fd6d7",
   "metadata": {},
   "outputs": [],
   "source": [
    "df['event_time'] = pd.to_datetime(df['event_timestamp'], unit='s')\n",
    "df['event_dt'] = pd.to_datetime(df['event_time']).dt.date"
   ]
  },
  {
   "cell_type": "markdown",
   "id": "73c58b38-48f2-436c-92a3-bdbbe2186718",
   "metadata": {},
   "source": [
    "Выполню проверку не пересекаются ли одинаковые id пользователей в разных группах."
   ]
  },
  {
   "cell_type": "code",
   "execution_count": 7,
   "id": "94f09b12-297f-49ba-ad1c-79f63c3db03e",
   "metadata": {},
   "outputs": [
    {
     "data": {
      "text/plain": [
       "0"
      ]
     },
     "execution_count": 7,
     "metadata": {},
     "output_type": "execute_result"
    }
   ],
   "source": [
    "id_doubles = df.groupby('device_id_hash')['exp_id'].nunique()\n",
    "len(id_doubles[id_doubles > 1].index.tolist())"
   ]
  },
  {
   "cell_type": "markdown",
   "id": "5a4670ba-fcfe-4b48-b641-a2f6b75ffb5f",
   "metadata": {},
   "source": [
    "Таковых не обнаружено."
   ]
  },
  {
   "cell_type": "markdown",
   "id": "64fee3eb-3f59-44df-a631-de1ee926733f",
   "metadata": {},
   "source": [
    " ## Изучение данных"
   ]
  },
  {
   "cell_type": "code",
   "execution_count": 8,
   "id": "8f0a6258-81fa-4920-80b5-9ff74c65b081",
   "metadata": {},
   "outputs": [
    {
     "data": {
      "text/plain": [
       "5"
      ]
     },
     "execution_count": 8,
     "metadata": {},
     "output_type": "execute_result"
    }
   ],
   "source": [
    "df['event_name'].nunique()"
   ]
  },
  {
   "cell_type": "markdown",
   "id": "d8f3b91c-274a-4f18-a42b-0985967c14c7",
   "metadata": {},
   "source": [
    "Всего в логе 5 уникальных событий."
   ]
  },
  {
   "cell_type": "code",
   "execution_count": 9,
   "id": "4c514de1-8248-459c-a3ac-f30ad34b45aa",
   "metadata": {},
   "outputs": [
    {
     "data": {
      "text/plain": [
       "7551"
      ]
     },
     "execution_count": 9,
     "metadata": {},
     "output_type": "execute_result"
    }
   ],
   "source": [
    "df['device_id_hash'].nunique()"
   ]
  },
  {
   "cell_type": "markdown",
   "id": "0b62dc2f-1fab-415b-b947-a34f94e3cbb9",
   "metadata": {},
   "source": [
    "Всего в логе 7551 уникальных пользователей."
   ]
  },
  {
   "cell_type": "code",
   "execution_count": 10,
   "id": "654f7f47-65c3-4f1f-9256-f4bbc67c03c3",
   "metadata": {},
   "outputs": [
    {
     "data": {
      "text/plain": [
       "32.27559263673685"
      ]
     },
     "execution_count": 10,
     "metadata": {},
     "output_type": "execute_result"
    }
   ],
   "source": [
    "df.groupby('device_id_hash')['event_name'].count().mean()"
   ]
  },
  {
   "cell_type": "markdown",
   "id": "c80d7c44-f103-4e5e-8c3e-386127dbba0d",
   "metadata": {},
   "source": [
    "В среднем на одного пользователя приходится 32 события."
   ]
  },
  {
   "cell_type": "markdown",
   "id": "ffc53ff0-a256-43b6-a127-356ef254d3ac",
   "metadata": {},
   "source": [
    "### Исследование временного периода"
   ]
  },
  {
   "cell_type": "code",
   "execution_count": 12,
   "id": "3de80c96-e988-483a-83ac-13a4877f3d8e",
   "metadata": {},
   "outputs": [
    {
     "name": "stdout",
     "output_type": "stream",
     "text": [
      "Минимальная дата: 2019-07-25 04:43:36\n",
      "Максимальная дата: 2019-08-07 21:15:17\n",
      "Период: 13 days 16:31:41\n"
     ]
    }
   ],
   "source": [
    "print(f\"Минимальная дата: {df['event_time'].min()}\")\n",
    "print(f\"Максимальная дата: {df['event_time'].max()}\")\n",
    "print(f\"Период: {df['event_time'].max() - df['event_time'].min()}\")"
   ]
  },
  {
   "cell_type": "code",
   "execution_count": 13,
   "id": "4c8236df-52cf-4075-8135-689cf0c5baa7",
   "metadata": {},
   "outputs": [
    {
     "data": {
      "image/png": "[encoded data removed]",
      "text/plain": [
       "<Figure size 1200x600 with 1 Axes>"
      ]
     },
     "metadata": {},
     "output_type": "display_data"
    }
   ],
   "source": [
    "event_counts = df.groupby(['event_dt', 'exp_id'])['event_name'].count().reset_index()\n",
    "plt.figure(figsize=(12, 6))\n",
    "sns.barplot(data=event_counts, x='event_dt', y='event_name', hue='exp_id')\n",
    "plt.title('Количество событий в зависимости от времени по группам')\n",
    "plt.xlabel('Дата')\n",
    "plt.ylabel('Количество событий')\n",
    "plt.xticks(rotation=45)\n",
    "plt.legend(title='Группа')\n",
    "plt.show()"
   ]
  },
  {
   "cell_type": "markdown",
   "id": "71842214-f989-47f2-9354-99bce33ce2ef",
   "metadata": {},
   "source": [
    "Судя по визуализации, актуальный период с полными данными следует определить начиная с 1 августа. "
   ]
  },
  {
   "cell_type": "code",
   "execution_count": 14,
   "id": "a3bec90f-70e3-4123-8a7b-49cbd864d93b",
   "metadata": {},
   "outputs": [],
   "source": [
    "df_unfilt = df.copy()\n",
    "df = df.query('event_dt >= datetime(2019, 8, 1).date()')"
   ]
  },
  {
   "cell_type": "code",
   "execution_count": 15,
   "id": "1cb8fd85-c1a2-4961-96cb-db2bfac2f60e",
   "metadata": {},
   "outputs": [
    {
     "name": "stdout",
     "output_type": "stream",
     "text": [
      "Событий до фильтрации: 243713\n",
      "Событий после фильтрации: 240887\n",
      "Доля удалённых событий: 1.16%\n",
      "\n",
      "Пользователей до фильтрации: 7551\n",
      "Пользователей после фильтрации: 7534\n",
      "Доля удалённых пользователей: 0.23%\n",
      "\n",
      "Количество пользователей по группам после фильтрации:\n",
      " exp_id\n",
      "246    2484\n",
      "247    2513\n",
      "248    2537\n",
      "Name: device_id_hash, dtype: int64\n"
     ]
    }
   ],
   "source": [
    "print(f'Событий до фильтрации: {len(df_unfilt)}')\n",
    "print(f'Событий после фильтрации: {len(df)}')\n",
    "print(f'Доля удалённых событий: {((len(df_unfilt) - len(df)) / len(df_unfilt) * 100):.2f}%')\n",
    "print()\n",
    "print(f\"Пользователей до фильтрации: {df_unfilt['device_id_hash'].nunique()}\")\n",
    "print(f\"Пользователей после фильтрации: {df['device_id_hash'].nunique()}\")\n",
    "print(\"Доля удалённых пользователей: {:.2f}%\".format(\n",
    "    (df_unfilt['device_id_hash'].nunique() - df['device_id_hash'].nunique()) / df_unfilt['device_id_hash'].nunique() * 100))\n",
    "print()\n",
    "print('Количество пользователей по группам после фильтрации:\\n', df.groupby('exp_id')['device_id_hash'].nunique())"
   ]
  },
  {
   "cell_type": "markdown",
   "id": "d86cb2fe-f711-4883-b5ef-e5509e35a81d",
   "metadata": {},
   "source": [
    "Отброшена незначительная часть данных, лог актуализирован, в выборке присутствуют все три группы."
   ]
  },
  {
   "cell_type": "markdown",
   "id": "2a65cfa9-52b9-4fcd-bafa-dc97a1b889b2",
   "metadata": {},
   "source": [
    " ## Изучение воронки событий"
   ]
  },
  {
   "cell_type": "code",
   "execution_count": 16,
   "id": "f2cc045f-5297-49cc-b312-7267ad46fce3",
   "metadata": {},
   "outputs": [
    {
     "data": {
      "image/png": "[encoded data removed]",
      "text/plain": [
       "<Figure size 640x480 with 1 Axes>"
      ]
     },
     "metadata": {},
     "output_type": "display_data"
    }
   ],
   "source": [
    "df['event_name'].hist()\n",
    "plt.xticks(rotation=45);"
   ]
  },
  {
   "cell_type": "markdown",
   "id": "96860f7f-122d-44d1-a20c-7a3148ebe813",
   "metadata": {},
   "source": [
    "Наскоро построенная гистограмма позволяет сразу оценить распределение событий по частоте встречаемости."
   ]
  },
  {
   "cell_type": "code",
   "execution_count": 17,
   "id": "61344998-b671-48fc-8ce9-6aeeb98f6dc8",
   "metadata": {},
   "outputs": [
    {
     "data": {
      "text/plain": [
       "event_name\n",
       "MainScreenAppear           117328\n",
       "OffersScreenAppear          46333\n",
       "CartScreenAppear            42303\n",
       "PaymentScreenSuccessful     33918\n",
       "Tutorial                     1005\n",
       "Name: device_id_hash, dtype: int64"
      ]
     },
     "execution_count": 17,
     "metadata": {},
     "output_type": "execute_result"
    }
   ],
   "source": [
    "df.groupby('event_name')['device_id_hash'].count().sort_values(ascending=False)"
   ]
  },
  {
   "cell_type": "markdown",
   "id": "2a3b6517-9b73-498d-9afb-9ba981652396",
   "metadata": {},
   "source": [
    "- MainScreenAppear: просмотр главной страницы\n",
    "- OffersScreenAppear: просмотр страницы с товаром\n",
    "- CartScreenAppear: просмотр корзины покупок\n",
    "- PaymentScreenSuccessful: просмотр страницы с совершённой покупкой\n",
    "- Tutorial - просмотр обучающей информации"
   ]
  },
  {
   "cell_type": "code",
   "execution_count": 18,
   "id": "48c91351-1561-4e2a-b4f9-74bdff3a5756",
   "metadata": {},
   "outputs": [
    {
     "data": {
      "text/html": [
       "<div>\n",
       "<style scoped>\n",
       "    .dataframe tbody tr th:only-of-type {\n",
       "        vertical-align: middle;\n",
       "    }\n",
       "\n",
       "    .dataframe tbody tr th {\n",
       "        vertical-align: top;\n",
       "    }\n",
       "\n",
       "    .dataframe thead th {\n",
       "        text-align: right;\n",
       "    }\n",
       "</style>\n",
       "<table border=\"1\" class=\"dataframe\">\n",
       "  <thead>\n",
       "    <tr style=\"text-align: right;\">\n",
       "      <th></th>\n",
       "      <th>total</th>\n",
       "      <th>uniques</th>\n",
       "      <th>ratio</th>\n",
       "    </tr>\n",
       "    <tr>\n",
       "      <th>event_name</th>\n",
       "      <th></th>\n",
       "      <th></th>\n",
       "      <th></th>\n",
       "    </tr>\n",
       "  </thead>\n",
       "  <tbody>\n",
       "    <tr>\n",
       "      <th>MainScreenAppear</th>\n",
       "      <td>117328</td>\n",
       "      <td>7419</td>\n",
       "      <td>98.47%</td>\n",
       "    </tr>\n",
       "    <tr>\n",
       "      <th>OffersScreenAppear</th>\n",
       "      <td>46333</td>\n",
       "      <td>4593</td>\n",
       "      <td>60.96%</td>\n",
       "    </tr>\n",
       "    <tr>\n",
       "      <th>CartScreenAppear</th>\n",
       "      <td>42303</td>\n",
       "      <td>3734</td>\n",
       "      <td>49.56%</td>\n",
       "    </tr>\n",
       "    <tr>\n",
       "      <th>PaymentScreenSuccessful</th>\n",
       "      <td>33918</td>\n",
       "      <td>3539</td>\n",
       "      <td>46.97%</td>\n",
       "    </tr>\n",
       "    <tr>\n",
       "      <th>Tutorial</th>\n",
       "      <td>1005</td>\n",
       "      <td>840</td>\n",
       "      <td>11.15%</td>\n",
       "    </tr>\n",
       "  </tbody>\n",
       "</table>\n",
       "</div>"
      ],
      "text/plain": [
       "                          total  uniques   ratio\n",
       "event_name                                      \n",
       "MainScreenAppear         117328     7419  98.47%\n",
       "OffersScreenAppear        46333     4593  60.96%\n",
       "CartScreenAppear          42303     3734  49.56%\n",
       "PaymentScreenSuccessful   33918     3539  46.97%\n",
       "Tutorial                   1005      840  11.15%"
      ]
     },
     "execution_count": 18,
     "metadata": {},
     "output_type": "execute_result"
    }
   ],
   "source": [
    "df_pivot = df.pivot_table(index='event_name', values='device_id_hash', aggfunc=['count', 'nunique'])\n",
    "df_pivot.columns = ['total', 'uniques']\n",
    "df_pivot['ratio'] = (df_pivot['uniques'] / (df['device_id_hash'].nunique()) * 100).apply(lambda x: f\"{x:.2f}%\")\n",
    "df_pivot = df_pivot.sort_values(by='total', ascending=False)\n",
    "df_pivot"
   ]
  },
  {
   "cell_type": "markdown",
   "id": "6662cedc-44de-4436-b5b1-2e256fa82389",
   "metadata": {},
   "source": [
    "- в столбце total - общее количество событий \n",
    "- в столбце uniques - количество уникальных пользователей хотя бы раз совершивших событие \n",
    "- в столбце ratio - процентное соотношение уникальных пользователей, хотя бы раз совершавших событие, к общему количеству уникальных пользователей в датасете. "
   ]
  },
  {
   "cell_type": "markdown",
   "id": "e91f8979-a885-4ad7-9b8c-1b933a4e562a",
   "metadata": {},
   "source": [
    "Логичный порядок событий должен быть следующим: <br><br>\n",
    "MainScreenAppear -> Tutorial -> OffersScreenAppear -> CartScreenAppear -> PaymentScreenSuccessful<br><br>\n",
    "В данном случае обучающий раздел выбивается из цепочки, большинство пользователей игнорируют его или не нуждаются в нём, отброшу его при расчете воронки событий."
   ]
  },
  {
   "cell_type": "markdown",
   "id": "60b1e652-86b9-446a-9b4c-8e4b82ae63b2",
   "metadata": {},
   "source": [
    "Добавлю к сводной таблице столбец conversion, отражающий долю пользователей, переходящих на следующий шаг воронки."
   ]
  },
  {
   "cell_type": "code",
   "execution_count": 19,
   "id": "0a8e0a39-f907-4717-93ae-2f4373187022",
   "metadata": {},
   "outputs": [
    {
     "data": {
      "text/html": [
       "<div>\n",
       "<style scoped>\n",
       "    .dataframe tbody tr th:only-of-type {\n",
       "        vertical-align: middle;\n",
       "    }\n",
       "\n",
       "    .dataframe tbody tr th {\n",
       "        vertical-align: top;\n",
       "    }\n",
       "\n",
       "    .dataframe thead th {\n",
       "        text-align: right;\n",
       "    }\n",
       "</style>\n",
       "<table border=\"1\" class=\"dataframe\">\n",
       "  <thead>\n",
       "    <tr style=\"text-align: right;\">\n",
       "      <th></th>\n",
       "      <th>total</th>\n",
       "      <th>uniques</th>\n",
       "      <th>ratio</th>\n",
       "      <th>conversion</th>\n",
       "    </tr>\n",
       "    <tr>\n",
       "      <th>event_name</th>\n",
       "      <th></th>\n",
       "      <th></th>\n",
       "      <th></th>\n",
       "      <th></th>\n",
       "    </tr>\n",
       "  </thead>\n",
       "  <tbody>\n",
       "    <tr>\n",
       "      <th>MainScreenAppear</th>\n",
       "      <td>117328</td>\n",
       "      <td>7419</td>\n",
       "      <td>98.47%</td>\n",
       "      <td>100.00%</td>\n",
       "    </tr>\n",
       "    <tr>\n",
       "      <th>OffersScreenAppear</th>\n",
       "      <td>46333</td>\n",
       "      <td>4593</td>\n",
       "      <td>60.96%</td>\n",
       "      <td>61.91%</td>\n",
       "    </tr>\n",
       "    <tr>\n",
       "      <th>CartScreenAppear</th>\n",
       "      <td>42303</td>\n",
       "      <td>3734</td>\n",
       "      <td>49.56%</td>\n",
       "      <td>81.30%</td>\n",
       "    </tr>\n",
       "    <tr>\n",
       "      <th>PaymentScreenSuccessful</th>\n",
       "      <td>33918</td>\n",
       "      <td>3539</td>\n",
       "      <td>46.97%</td>\n",
       "      <td>94.78%</td>\n",
       "    </tr>\n",
       "  </tbody>\n",
       "</table>\n",
       "</div>"
      ],
      "text/plain": [
       "                          total  uniques   ratio conversion\n",
       "event_name                                                 \n",
       "MainScreenAppear         117328     7419  98.47%    100.00%\n",
       "OffersScreenAppear        46333     4593  60.96%     61.91%\n",
       "CartScreenAppear          42303     3734  49.56%     81.30%\n",
       "PaymentScreenSuccessful   33918     3539  46.97%     94.78%"
      ]
     },
     "execution_count": 19,
     "metadata": {},
     "output_type": "execute_result"
    }
   ],
   "source": [
    "df_pivot = df_pivot.query('event_name != \"Tutorial\"').copy()\n",
    "df_pivot.loc[:, 'conversion'] = (\n",
    "    df_pivot['uniques'] / df_pivot['uniques'].shift(1) * 100).fillna(100).apply(lambda x: f\"{x:.2f}%\")\n",
    "df_pivot"
   ]
  },
  {
   "cell_type": "markdown",
   "id": "3382a033-9893-479c-9fd1-adc3d56c63cc",
   "metadata": {},
   "source": [
    "- наибольшие потери в 38,1% происходят при переходе с первого шага на второй, столько пользователей посетили сайт, но не открыли карточку с товаром\n",
    "- 18,7% пользователей посмотрели карточку товара, но не перешли в корзину покупок\n",
    "- 5,22% просмотрели корзину покупок, но не оплатили товары"
   ]
  },
  {
   "cell_type": "code",
   "execution_count": 20,
   "id": "b0b87620-fda1-4de6-a2e7-6891818303a1",
   "metadata": {},
   "outputs": [
    {
     "data": {
      "image/png": "[encoded data removed]",
      "text/plain": [
       "<Figure size 1000x600 with 1 Axes>"
      ]
     },
     "metadata": {},
     "output_type": "display_data"
    }
   ],
   "source": [
    "plt.figure(figsize=(10, 6))\n",
    "sns.barplot(x='uniques', y=df_pivot.index, data=df_pivot, palette='viridis')\n",
    "for index, value in enumerate(df_pivot['uniques']):\n",
    "    plt.text(value, index, f\"{df_pivot['ratio'].iloc[index]}\", va='center', ha='right', color='black', fontsize=10)\n",
    "    plt.title('Воронка событий')\n",
    "plt.xlabel('Количество пользователей')\n",
    "plt.ylabel('События')\n",
    "plt.show()"
   ]
  },
  {
   "cell_type": "markdown",
   "id": "93dae993-9d40-4b1e-b60c-d2a8dc8e3732",
   "metadata": {},
   "source": [
    "46,97% от общего количества уникальных пользователей хотя бы раз прошли от главного экрана до совершенной оплаты."
   ]
  },
  {
   "cell_type": "markdown",
   "id": "49fdf9b3-b17c-4d91-99c0-57463100c8d7",
   "metadata": {},
   "source": [
    "## Изучение результатов эксперимента"
   ]
  },
  {
   "cell_type": "code",
   "execution_count": 21,
   "id": "f202feba-c300-4e64-a4b1-baa1bbda92e9",
   "metadata": {},
   "outputs": [
    {
     "data": {
      "text/plain": [
       "exp_id\n",
       "246    2484\n",
       "247    2513\n",
       "248    2537\n",
       "Name: device_id_hash, dtype: int64"
      ]
     },
     "execution_count": 21,
     "metadata": {},
     "output_type": "execute_result"
    }
   ],
   "source": [
    "df.groupby('exp_id')['device_id_hash'].nunique()"
   ]
  },
  {
   "cell_type": "markdown",
   "id": "ddd29b25-e2ec-4382-9cc4-c6f7750c386f",
   "metadata": {},
   "source": [
    "Навскидку группы примерно равны, но лучше изучить дополнительные критерии, чтоб убедиться, что значимая разница отсутствует."
   ]
  },
  {
   "cell_type": "markdown",
   "id": "bd6f85d8-58c0-447e-b900-9758f38d5d02",
   "metadata": {},
   "source": [
    "Некоторые критерии успешного A/A-теста: \n",
    "- попавший в одну из групп посетитель остаётся в этой группе до конца теста\n",
    "- количество пользователей в группах различается не более, чем на 1-2%<br><br>\n",
    "\n",
    "В ходе предобработки уже было установлено, что пользователи не перемещаются из группы в группу. Оценю разницу в количестве уникальных пользователей."
   ]
  },
  {
   "cell_type": "code",
   "execution_count": 22,
   "id": "114940c9-c832-4883-8405-6389b5e5f5e0",
   "metadata": {},
   "outputs": [
    {
     "name": "stdout",
     "output_type": "stream",
     "text": [
      "Разница между группами 246 и 247: -1.15%\n"
     ]
    }
   ],
   "source": [
    "unique_counts = df.groupby('exp_id')['device_id_hash'].nunique()\n",
    "diff = (((unique_counts.get(246, 0)) - (unique_counts.get(247, 0))) / (unique_counts.get(247, 0))) * 100\n",
    "print(f\"Разница между группами 246 и 247: {diff:.2f}%\")"
   ]
  },
  {
   "cell_type": "markdown",
   "id": "5643399e-bf61-4de4-a534-8b614cfc6ff2",
   "metadata": {},
   "source": [
    "### Проведение А/А теста"
   ]
  },
  {
   "cell_type": "markdown",
   "id": "048a6100-c727-4f5f-9590-c7c1f1446369",
   "metadata": {},
   "source": [
    "Для начала возьму самое популярное событие - MainScreenAppear и посчитаю число пользователей, совершивших это событие в каждой из контрольных групп, а также долю пользователей, совершивших это событие."
   ]
  },
  {
   "cell_type": "code",
   "execution_count": 23,
   "id": "6d80ea53-ba74-428a-afb9-7a4deea1655b",
   "metadata": {},
   "outputs": [
    {
     "data": {
      "text/html": [
       "<div>\n",
       "<style scoped>\n",
       "    .dataframe tbody tr th:only-of-type {\n",
       "        vertical-align: middle;\n",
       "    }\n",
       "\n",
       "    .dataframe tbody tr th {\n",
       "        vertical-align: top;\n",
       "    }\n",
       "\n",
       "    .dataframe thead th {\n",
       "        text-align: right;\n",
       "    }\n",
       "</style>\n",
       "<table border=\"1\" class=\"dataframe\">\n",
       "  <thead>\n",
       "    <tr style=\"text-align: right;\">\n",
       "      <th></th>\n",
       "      <th>uniques</th>\n",
       "      <th>total</th>\n",
       "      <th>ratio</th>\n",
       "    </tr>\n",
       "    <tr>\n",
       "      <th>exp_id</th>\n",
       "      <th></th>\n",
       "      <th></th>\n",
       "      <th></th>\n",
       "    </tr>\n",
       "  </thead>\n",
       "  <tbody>\n",
       "    <tr>\n",
       "      <th>246</th>\n",
       "      <td>2450</td>\n",
       "      <td>2484</td>\n",
       "      <td>98.63%</td>\n",
       "    </tr>\n",
       "    <tr>\n",
       "      <th>247</th>\n",
       "      <td>2476</td>\n",
       "      <td>2513</td>\n",
       "      <td>98.53%</td>\n",
       "    </tr>\n",
       "    <tr>\n",
       "      <th>248</th>\n",
       "      <td>2493</td>\n",
       "      <td>2537</td>\n",
       "      <td>98.27%</td>\n",
       "    </tr>\n",
       "  </tbody>\n",
       "</table>\n",
       "</div>"
      ],
      "text/plain": [
       "        uniques  total   ratio\n",
       "exp_id                        \n",
       "246        2450   2484  98.63%\n",
       "247        2476   2513  98.53%\n",
       "248        2493   2537  98.27%"
      ]
     },
     "execution_count": 23,
     "metadata": {},
     "output_type": "execute_result"
    }
   ],
   "source": [
    "msa_event = df.query('event_name == \"MainScreenAppear\"')\n",
    "msa_table = msa_event.pivot_table(index='exp_id', values='device_id_hash', aggfunc='nunique')\n",
    "total_users = df.pivot_table(index='exp_id', values='device_id_hash', aggfunc='nunique')\n",
    "msa_table.columns = ['uniques']\n",
    "total_users.columns = ['total']\n",
    "msa_table = msa_table.join(total_users)\n",
    "msa_table['ratio'] = (msa_table['uniques'] / msa_table['total'] * 100).apply(lambda x: f\"{x:.2f}%\")\n",
    "msa_table"
   ]
  },
  {
   "cell_type": "markdown",
   "id": "ae99dd55-0052-4d3a-9401-100ef423cffa",
   "metadata": {},
   "source": [
    "Теперь проведу тест, чтобы определить наличие либо отсутствие статистически значимой разницы в А/А-группах. Для этого:\n",
    "- посчитаю количество уникальных пользователей, совершивших данное событие в каждой группе \n",
    "- посчитаю количество уникальных пользователей в группах\n",
    "- вычислю пропорции успехов (совершения события)\n",
    "- вычислю пропорцию успехов в комбинированном датасете и разницу пропорций для оценки дисперсии при проведении Z-теста \n",
    "- посчитаю статистику"
   ]
  },
  {
   "cell_type": "markdown",
   "id": "bef02114-6755-47c5-a3af-442da5254845",
   "metadata": {},
   "source": [
    "**H0:** Доли уникальных пользователей в группах 246 и 247 при совершении события MainScreenAppear одинаковы, поведение групп не отличается.<br>\n",
    "**H1:** Доли уникальных пользователей в группах 246 и 247 при совершении события MainScreenAppear различны, поведение групп отличается.<br>"
   ]
  },
  {
   "cell_type": "code",
   "execution_count": 24,
   "id": "91b28a27-5eab-457c-8161-756591771814",
   "metadata": {},
   "outputs": [
    {
     "name": "stdout",
     "output_type": "stream",
     "text": [
      "P-value: 0.7587\n",
      "Не получилось отвергнуть нулевую гипотезу, нет оснований считать доли разными\n"
     ]
    }
   ],
   "source": [
    "alpha = .05\n",
    "group_246 = df.query('exp_id == 246')\n",
    "group_247 = df.query('exp_id == 247')\n",
    "unique_event_246 = group_246.query('event_name == \"MainScreenAppear\"')['device_id_hash'].nunique()\n",
    "unique_event_247 = group_247.query('event_name == \"MainScreenAppear\"')['device_id_hash'].nunique()\n",
    "total_unique_246 = group_246['device_id_hash'].nunique()\n",
    "total_unique_247 = group_247['device_id_hash'].nunique()\n",
    "event_array = np.array([unique_event_246, unique_event_247])\n",
    "total_array = np.array([total_unique_246, total_unique_247])\n",
    "p1 = event_array[0] / total_array[0]\n",
    "p2 = event_array[1] / total_array[1]\n",
    "p_combined = (event_array[0] + event_array[1]) / (total_array[0] + total_array[1])\n",
    "difference = p1 - p2\n",
    "z_value = difference / mth.sqrt(p_combined * (1 - p_combined) * (1 / event_array[0] + 1 / event_array[1]))\n",
    "distr = st.norm(0, 1)\n",
    "p_value = (1 - distr.cdf(abs(z_value))) * 2\n",
    "print(f\"P-value: {p_value:.4f}\")\n",
    "if p_value < alpha:\n",
    "    print('Отвергаем нулевую гипотезу: между долями есть значимая разница')\n",
    "else:\n",
    "    print('Не получилось отвергнуть нулевую гипотезу, нет оснований считать доли разными')"
   ]
  },
  {
   "cell_type": "markdown",
   "id": "8ba9cefd-c866-420e-8111-e8933ebd4d82",
   "metadata": {},
   "source": [
    "Тест показывает, что разницы в поведении А/А-групп не наблюдается. Теперь заверну этот тест в функцию и повторю тестирование при совершении этого и всех оставшихся событий."
   ]
  },
  {
   "cell_type": "code",
   "execution_count": 25,
   "id": "eeafe1da-b2ad-4682-8fd6-659789d1f884",
   "metadata": {},
   "outputs": [],
   "source": [
    "def z_test(group_1, group_2, event):\n",
    "    alpha = .05\n",
    "    events = np.array(\n",
    "        [group_1.query('event_name == @event')['device_id_hash'].nunique(), \n",
    "         group_2.query('event_name == @event')['device_id_hash'].nunique()])\n",
    "    users = np.array([group_1['device_id_hash'].nunique(), group_2['device_id_hash'].nunique()])\n",
    "    p1 = events[0] / users[0]\n",
    "    p2 = events[1] / users[1]\n",
    "    p_combined = (events[0] + events[1]) / (users[0] + users[1])\n",
    "    difference = p1 - p2\n",
    "    z_value = difference / mth.sqrt(p_combined * (1 - p_combined) * (1 / events[0] + 1 / events[1]))\n",
    "    distr = st.norm(0, 1)  \n",
    "    p_value = (1 - distr.cdf(abs(z_value))) * 2\n",
    "    print(event)\n",
    "    print(f\"P-value: {p_value:.4f}\")\n",
    "    if p_value < alpha:\n",
    "        print('Отвергаем нулевую гипотезу: между долями есть значимая разница')\n",
    "    else:\n",
    "        print('Не получилось отвергнуть нулевую гипотезу, нет оснований считать доли разными')\n",
    "    print()"
   ]
  },
  {
   "cell_type": "code",
   "execution_count": 26,
   "id": "e765375b-3ca0-4ab3-8075-91105026b53c",
   "metadata": {},
   "outputs": [
    {
     "name": "stdout",
     "output_type": "stream",
     "text": [
      "Tutorial\n",
      "P-value: 0.9791\n",
      "Не получилось отвергнуть нулевую гипотезу, нет оснований считать доли разными\n",
      "\n",
      "MainScreenAppear\n",
      "P-value: 0.7587\n",
      "Не получилось отвергнуть нулевую гипотезу, нет оснований считать доли разными\n",
      "\n",
      "OffersScreenAppear\n",
      "P-value: 0.3659\n",
      "Не получилось отвергнуть нулевую гипотезу, нет оснований считать доли разными\n",
      "\n",
      "CartScreenAppear\n",
      "P-value: 0.3943\n",
      "Не получилось отвергнуть нулевую гипотезу, нет оснований считать доли разными\n",
      "\n",
      "PaymentScreenSuccessful\n",
      "P-value: 0.2784\n",
      "Не получилось отвергнуть нулевую гипотезу, нет оснований считать доли разными\n",
      "\n"
     ]
    }
   ],
   "source": [
    "events_array = df['event_name'].unique()\n",
    "for event in events_array:\n",
    "    z_test(group_246, group_247, event)"
   ]
  },
  {
   "cell_type": "markdown",
   "id": "19567a24-693f-49bc-a79f-09c981fe71b5",
   "metadata": {},
   "source": [
    "Тест указывает на отсутствие статистически значимой разницы между А/А-группами, следовательно разбивку можно считать корректной."
   ]
  },
  {
   "cell_type": "markdown",
   "id": "caa7feb3-a317-4fb6-8741-20474a5736f9",
   "metadata": {},
   "source": [
    "### Проведение А/B теста"
   ]
  },
  {
   "cell_type": "markdown",
   "id": "8a37c5c2-a8a5-44a2-bbe8-10c55d9bd44c",
   "metadata": {},
   "source": [
    "Теперь перейду к группе, которая наблюдала изменённый шрифт. Сравню результаты с каждой из контрольных групп в отдельности по каждому событию."
   ]
  },
  {
   "cell_type": "code",
   "execution_count": 29,
   "id": "bf136acb-cd3d-4c4d-aa22-df71fc883f7a",
   "metadata": {},
   "outputs": [
    {
     "name": "stdout",
     "output_type": "stream",
     "text": [
      "Tutorial\n",
      "P-value: 0.9418\n",
      "Не получилось отвергнуть нулевую гипотезу, нет оснований считать доли разными\n",
      "\n",
      "MainScreenAppear\n",
      "P-value: 0.2987\n",
      "Не получилось отвергнуть нулевую гипотезу, нет оснований считать доли разными\n",
      "\n",
      "OffersScreenAppear\n",
      "P-value: 0.3250\n",
      "Не получилось отвергнуть нулевую гипотезу, нет оснований считать доли разными\n",
      "\n",
      "CartScreenAppear\n",
      "P-value: 0.2147\n",
      "Не получилось отвергнуть нулевую гипотезу, нет оснований считать доли разными\n",
      "\n",
      "PaymentScreenSuccessful\n",
      "P-value: 0.3903\n",
      "Не получилось отвергнуть нулевую гипотезу, нет оснований считать доли разными\n",
      "\n"
     ]
    }
   ],
   "source": [
    "group_248 = df.query('exp_id == 248')\n",
    "for event in events_array:\n",
    "    z_test(group_246, group_248, event)"
   ]
  },
  {
   "cell_type": "markdown",
   "id": "9a5f9574-4ebd-4910-8b68-c6308807be37",
   "metadata": {},
   "source": [
    "Значимой разницы в поведении групп 246 и 248 нет."
   ]
  },
  {
   "cell_type": "code",
   "execution_count": 30,
   "id": "94e04101-0309-4bc0-85d7-b744fc746992",
   "metadata": {},
   "outputs": [
    {
     "name": "stdout",
     "output_type": "stream",
     "text": [
      "Tutorial\n",
      "P-value: 0.9207\n",
      "Не получилось отвергнуть нулевую гипотезу, нет оснований считать доли разными\n",
      "\n",
      "MainScreenAppear\n",
      "P-value: 0.4623\n",
      "Не получилось отвергнуть нулевую гипотезу, нет оснований считать доли разными\n",
      "\n",
      "OffersScreenAppear\n",
      "P-value: 0.9376\n",
      "Не получилось отвергнуть нулевую гипотезу, нет оснований считать доли разными\n",
      "\n",
      "CartScreenAppear\n",
      "P-value: 0.6978\n",
      "Не получилось отвергнуть нулевую гипотезу, нет оснований считать доли разными\n",
      "\n",
      "PaymentScreenSuccessful\n",
      "P-value: 0.8195\n",
      "Не получилось отвергнуть нулевую гипотезу, нет оснований считать доли разными\n",
      "\n"
     ]
    }
   ],
   "source": [
    "for event in events_array:\n",
    "    z_test(group_247, group_248, event)"
   ]
  },
  {
   "cell_type": "markdown",
   "id": "f8fe7095-6b5a-443b-ad16-759c050fd7e1",
   "metadata": {},
   "source": [
    "Значимой разницы в поведении групп 247 и 248 нет."
   ]
  },
  {
   "cell_type": "code",
   "execution_count": 31,
   "id": "d627ea66-6e69-482a-a51a-ebdc7a215a00",
   "metadata": {},
   "outputs": [
    {
     "name": "stdout",
     "output_type": "stream",
     "text": [
      "Tutorial\n",
      "P-value: 0.9207\n",
      "Не получилось отвергнуть нулевую гипотезу, нет оснований считать доли разными\n",
      "\n",
      "MainScreenAppear\n",
      "P-value: 0.2982\n",
      "Не получилось отвергнуть нулевую гипотезу, нет оснований считать доли разными\n",
      "\n",
      "OffersScreenAppear\n",
      "P-value: 0.5425\n",
      "Не получилось отвергнуть нулевую гипотезу, нет оснований считать доли разными\n",
      "\n",
      "CartScreenAppear\n",
      "P-value: 0.3498\n",
      "Не получилось отвергнуть нулевую гипотезу, нет оснований считать доли разными\n",
      "\n",
      "PaymentScreenSuccessful\n",
      "P-value: 0.7202\n",
      "Не получилось отвергнуть нулевую гипотезу, нет оснований считать доли разными\n",
      "\n"
     ]
    }
   ],
   "source": [
    "group_246_247 = pd.concat([group_246, group_247])\n",
    "for event in events_array:\n",
    "    z_test(group_246_247, group_248, event)"
   ]
  },
  {
   "cell_type": "markdown",
   "id": "cf08d7ff-5c51-4215-99f7-9e90fd931c6f",
   "metadata": {},
   "source": [
    "Значимой разницы в поведении объединённых групп 246 и 247 и группы 248 нет."
   ]
  },
  {
   "cell_type": "markdown",
   "id": "dc928de1-060f-4a76-ae05-97510766b6f0",
   "metadata": {},
   "source": [
    "### Уровень значимости"
   ]
  },
  {
   "cell_type": "markdown",
   "id": "a821346e-418d-4963-a36a-1ea49d4e150e",
   "metadata": {},
   "source": [
    "В данной работе для проверки статистических гипотез был выбран уровень значимости α = 0.05.<br>\n",
    "При проведении А/А/B теста было совершено 20 проверок статистических гипотез, что является множественной проверкой. Вероятность совершить хотя бы одну ошибку первого рода при 20 проверках составляет примерно 64%.<br><br>\n",
    "Для корректировки уровня значимости при множественных проверках можно использовать такие методы, как коррекция Бонферрони или метод Шидака:<br><br>\n",
    "Поправка Бонферрони: α / m = 0.05 / 20 = 0.0025<br>\n",
    "Метод Шидака: 1 - (1 - α)^1/m = 0.0025<br><br>\n",
    "\n",
    "Для того, чтоб при 20 проверках получить желаемую вероятность ошибки первого рода в 0.05, при проведении каждого теста следует установить α = 0.0025"
   ]
  },
  {
   "cell_type": "markdown",
   "id": "0a384321-85e5-4ab5-ae93-3d6a7cd573be",
   "metadata": {},
   "source": [
    "## Общий вывод"
   ]
  },
  {
   "cell_type": "markdown",
   "id": "fe509735-1a4c-4680-ac31-f3c64899ee21",
   "metadata": {},
   "source": [
    "Целями проекта были:\n",
    "1. **Изучить воронку событий:** \n",
    "- определить распределение пользователей по шагам воронки\n",
    "- выявить шаги, на которых теряется больше всего пользователей\n",
    "2. **Провести эксперимент, определяющий влияние новых шрифтов на поведение пользователей.**"
   ]
  },
  {
   "cell_type": "markdown",
   "id": "cfae42f9-4638-4b9c-b92a-ec6b16433aee",
   "metadata": {},
   "source": [
    "### Воронка событий"
   ]
  },
  {
   "cell_type": "markdown",
   "id": "9dfa290d-296b-4f8c-bc59-857f98421bdf",
   "metadata": {},
   "source": [
    "- Самое популярное событие - посещение главной страницы: 7419 уникальных пользователей и 98.47% от общего количества уников. Следовательно только 1,53% пользователей попадают на сайт, минуя главную. Следует дополнительно проанализировать источник трафика этих пользователей и тип страниц, на которые они переходят. Возможно, следует привлекать пользователей сразу на отдельные карточки товаров.\n",
    "- Только лишь 61% пользователей переходит с главного экрана на карточки товаров. Это может говорить о том, что на главном экране существует какая-то проблема, отталкивающая посетителей от совершения дальнейших действий по цепочке.\n",
    "- 81% пользователей, открывших карточку товара, в последствии переходят в корзину. Это говорит о том, что в целом магазин чаще всего способен дать интересное пользователю предложение.\n",
    "- Только 5% пользователей, добавивших товар в корзину, уходят не оплатив его, что ещё раз указывает на предложение, которое кажется пользователю привлекательным.\n",
    "- Лишь 11% посещают раздел с разъясняющей информацией. Возможно, следует дополнительно переработать этот раздел и продумать как он поможет повысить конверсию между 1 и 2 шагами.\n",
    "- Только 47% пользователей, попадающих на главную страницу, доходят до совершения покупки и большая часть из них отсекается сразу на главной странице."
   ]
  },
  {
   "cell_type": "markdown",
   "id": "fc786403-8f62-4a58-969d-350c1ac32edd",
   "metadata": {},
   "source": [
    "### Результаты теста"
   ]
  },
  {
   "cell_type": "markdown",
   "id": "970a1577-1e7d-4444-b5d6-592314dd99e4",
   "metadata": {},
   "source": [
    "A/А-тест показал корректность разделения пользователей на группы, а A/B не обнаружил статистически значимых различий между контрольными группами. Следовательно, можно говорить о том, что новый шрифт не оказал влияния на поведение пользователей. С этой точки зрения однозначно ответить на вопрос, какой из шрифтов лучше, нельзя."
   ]
  },
  {
   "cell_type": "code",
   "execution_count": null,
   "id": "31644152-90ab-4461-a301-6b650a8ae111",
   "metadata": {},
   "outputs": [],
   "source": []
  }
 ],
 "metadata": {
  "kernelspec": {
   "display_name": "Python 3 (ipykernel)",
   "language": "python",
   "name": "python3"
  },
  "language_info": {
   "codemirror_mode": {
    "name": "ipython",
    "version": 3
   },
   "file_extension": ".py",
   "mimetype": "text/x-python",
   "name": "python",
   "nbconvert_exporter": "python",
   "pygments_lexer": "ipython3",
   "version": "3.9.19"
  }
 },
 "nbformat": 4,
 "nbformat_minor": 5
}

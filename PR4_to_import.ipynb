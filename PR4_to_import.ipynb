{
 "cells": [
  {
   "cell_type": "markdown",
   "id": "0bfc3e4b-d995-437f-bd4e-a3d05e5f74f1",
   "metadata": {},
   "source": [
    "## Статистический анализ данных"
   ]
  },
  {
   "cell_type": "markdown",
   "id": "2e6f8bad-402b-40be-a685-429310c53596",
   "metadata": {},
   "source": [
    "Исследование данных популярного сервиса аренды самокатов GoFast. В датасетах содержатся данные о некоторых пользователях из нескольких городов, а также об их поездках. Требуется выполнить анализ и проверить некоторые гипотезы, которые могут помочь бизнесу вырасти."
   ]
  },
  {
   "cell_type": "code",
   "execution_count": 44,
   "id": "cca77fb7-12ab-4a9e-9c06-9b40844c9ed5",
   "metadata": {},
   "outputs": [],
   "source": [
    "import pandas as pd\n",
    "import matplotlib.pyplot as plt\n",
    "import numpy as np\n",
    "import math\n",
    "from math import factorial, exp, sqrt\n",
    "from scipy import stats as st\n",
    "from scipy.stats import binom, norm\n",
    "from scipy.stats import levene"
   ]
  },
  {
   "cell_type": "markdown",
   "id": "913dbfd7-9a2e-4e1f-97b6-c47960296192",
   "metadata": {},
   "source": [
    "#### Шаг 1. Загрузка данных"
   ]
  },
  {
   "cell_type": "code",
   "execution_count": 2,
   "id": "ee35c1c0-0b0c-4ede-a8bc-20c9c2b78b73",
   "metadata": {},
   "outputs": [],
   "source": [
    "data_users = pd.read_csv('D:\\\\ds\\\\users_go.csv')\n",
    "data_rides = pd.read_csv('D:\\\\ds\\\\rides_go.csv')\n",
    "data_subs = pd.read_csv('D:\\\\ds\\\\subscriptions_go.csv')\n",
    "pd.set_option('display.max_columns', None)"
   ]
  },
  {
   "cell_type": "code",
   "execution_count": 3,
   "id": "56d01997-d080-42ee-b87b-be54d95f5f31",
   "metadata": {},
   "outputs": [
    {
     "data": {
      "text/html": [
       "<div>\n",
       "<style scoped>\n",
       "    .dataframe tbody tr th:only-of-type {\n",
       "        vertical-align: middle;\n",
       "    }\n",
       "\n",
       "    .dataframe tbody tr th {\n",
       "        vertical-align: top;\n",
       "    }\n",
       "\n",
       "    .dataframe thead th {\n",
       "        text-align: right;\n",
       "    }\n",
       "</style>\n",
       "<table border=\"1\" class=\"dataframe\">\n",
       "  <thead>\n",
       "    <tr style=\"text-align: right;\">\n",
       "      <th></th>\n",
       "      <th>user_id</th>\n",
       "      <th>name</th>\n",
       "      <th>age</th>\n",
       "      <th>city</th>\n",
       "      <th>subscription_type</th>\n",
       "    </tr>\n",
       "  </thead>\n",
       "  <tbody>\n",
       "    <tr>\n",
       "      <th>0</th>\n",
       "      <td>1</td>\n",
       "      <td>Кира</td>\n",
       "      <td>22</td>\n",
       "      <td>Тюмень</td>\n",
       "      <td>ultra</td>\n",
       "    </tr>\n",
       "    <tr>\n",
       "      <th>1</th>\n",
       "      <td>2</td>\n",
       "      <td>Станислав</td>\n",
       "      <td>31</td>\n",
       "      <td>Омск</td>\n",
       "      <td>ultra</td>\n",
       "    </tr>\n",
       "    <tr>\n",
       "      <th>2</th>\n",
       "      <td>3</td>\n",
       "      <td>Алексей</td>\n",
       "      <td>20</td>\n",
       "      <td>Москва</td>\n",
       "      <td>ultra</td>\n",
       "    </tr>\n",
       "    <tr>\n",
       "      <th>3</th>\n",
       "      <td>4</td>\n",
       "      <td>Константин</td>\n",
       "      <td>26</td>\n",
       "      <td>Ростов-на-Дону</td>\n",
       "      <td>ultra</td>\n",
       "    </tr>\n",
       "    <tr>\n",
       "      <th>4</th>\n",
       "      <td>5</td>\n",
       "      <td>Адель</td>\n",
       "      <td>28</td>\n",
       "      <td>Омск</td>\n",
       "      <td>ultra</td>\n",
       "    </tr>\n",
       "  </tbody>\n",
       "</table>\n",
       "</div>"
      ],
      "text/plain": [
       "   user_id        name  age            city subscription_type\n",
       "0        1        Кира   22          Тюмень             ultra\n",
       "1        2   Станислав   31            Омск             ultra\n",
       "2        3     Алексей   20          Москва             ultra\n",
       "3        4  Константин   26  Ростов-на-Дону             ultra\n",
       "4        5       Адель   28            Омск             ultra"
      ]
     },
     "execution_count": 3,
     "metadata": {},
     "output_type": "execute_result"
    }
   ],
   "source": [
    "data_users.head(5)"
   ]
  },
  {
   "cell_type": "code",
   "execution_count": 4,
   "id": "f30e7e56-d8b5-4d57-b38d-4fa13fde4243",
   "metadata": {},
   "outputs": [
    {
     "data": {
      "text/html": [
       "<div>\n",
       "<style scoped>\n",
       "    .dataframe tbody tr th:only-of-type {\n",
       "        vertical-align: middle;\n",
       "    }\n",
       "\n",
       "    .dataframe tbody tr th {\n",
       "        vertical-align: top;\n",
       "    }\n",
       "\n",
       "    .dataframe thead th {\n",
       "        text-align: right;\n",
       "    }\n",
       "</style>\n",
       "<table border=\"1\" class=\"dataframe\">\n",
       "  <thead>\n",
       "    <tr style=\"text-align: right;\">\n",
       "      <th></th>\n",
       "      <th>user_id</th>\n",
       "      <th>distance</th>\n",
       "      <th>duration</th>\n",
       "      <th>date</th>\n",
       "    </tr>\n",
       "  </thead>\n",
       "  <tbody>\n",
       "    <tr>\n",
       "      <th>0</th>\n",
       "      <td>1</td>\n",
       "      <td>4409.919140</td>\n",
       "      <td>25.599769</td>\n",
       "      <td>2021-01-01</td>\n",
       "    </tr>\n",
       "    <tr>\n",
       "      <th>1</th>\n",
       "      <td>1</td>\n",
       "      <td>2617.592153</td>\n",
       "      <td>15.816871</td>\n",
       "      <td>2021-01-18</td>\n",
       "    </tr>\n",
       "    <tr>\n",
       "      <th>2</th>\n",
       "      <td>1</td>\n",
       "      <td>754.159807</td>\n",
       "      <td>6.232113</td>\n",
       "      <td>2021-04-20</td>\n",
       "    </tr>\n",
       "    <tr>\n",
       "      <th>3</th>\n",
       "      <td>1</td>\n",
       "      <td>2694.783254</td>\n",
       "      <td>18.511000</td>\n",
       "      <td>2021-08-11</td>\n",
       "    </tr>\n",
       "    <tr>\n",
       "      <th>4</th>\n",
       "      <td>1</td>\n",
       "      <td>4028.687306</td>\n",
       "      <td>26.265803</td>\n",
       "      <td>2021-08-28</td>\n",
       "    </tr>\n",
       "  </tbody>\n",
       "</table>\n",
       "</div>"
      ],
      "text/plain": [
       "   user_id     distance   duration        date\n",
       "0        1  4409.919140  25.599769  2021-01-01\n",
       "1        1  2617.592153  15.816871  2021-01-18\n",
       "2        1   754.159807   6.232113  2021-04-20\n",
       "3        1  2694.783254  18.511000  2021-08-11\n",
       "4        1  4028.687306  26.265803  2021-08-28"
      ]
     },
     "execution_count": 4,
     "metadata": {},
     "output_type": "execute_result"
    }
   ],
   "source": [
    "data_rides.head(5)"
   ]
  },
  {
   "cell_type": "code",
   "execution_count": 5,
   "id": "96574080-f4e8-4b70-aae4-79d8e4708185",
   "metadata": {},
   "outputs": [
    {
     "data": {
      "text/html": [
       "<div>\n",
       "<style scoped>\n",
       "    .dataframe tbody tr th:only-of-type {\n",
       "        vertical-align: middle;\n",
       "    }\n",
       "\n",
       "    .dataframe tbody tr th {\n",
       "        vertical-align: top;\n",
       "    }\n",
       "\n",
       "    .dataframe thead th {\n",
       "        text-align: right;\n",
       "    }\n",
       "</style>\n",
       "<table border=\"1\" class=\"dataframe\">\n",
       "  <thead>\n",
       "    <tr style=\"text-align: right;\">\n",
       "      <th></th>\n",
       "      <th>subscription_type</th>\n",
       "      <th>minute_price</th>\n",
       "      <th>start_ride_price</th>\n",
       "      <th>subscription_fee</th>\n",
       "    </tr>\n",
       "  </thead>\n",
       "  <tbody>\n",
       "    <tr>\n",
       "      <th>0</th>\n",
       "      <td>free</td>\n",
       "      <td>8</td>\n",
       "      <td>50</td>\n",
       "      <td>0</td>\n",
       "    </tr>\n",
       "    <tr>\n",
       "      <th>1</th>\n",
       "      <td>ultra</td>\n",
       "      <td>6</td>\n",
       "      <td>0</td>\n",
       "      <td>199</td>\n",
       "    </tr>\n",
       "  </tbody>\n",
       "</table>\n",
       "</div>"
      ],
      "text/plain": [
       "  subscription_type  minute_price  start_ride_price  subscription_fee\n",
       "0              free             8                50                 0\n",
       "1             ultra             6                 0               199"
      ]
     },
     "execution_count": 5,
     "metadata": {},
     "output_type": "execute_result"
    }
   ],
   "source": [
    "data_subs"
   ]
  },
  {
   "cell_type": "code",
   "execution_count": 6,
   "id": "053a4061-1ddd-4e65-a367-9f5863a72bbc",
   "metadata": {},
   "outputs": [
    {
     "name": "stdout",
     "output_type": "stream",
     "text": [
      "<class 'pandas.core.frame.DataFrame'>\n",
      "RangeIndex: 1565 entries, 0 to 1564\n",
      "Data columns (total 5 columns):\n",
      " #   Column             Non-Null Count  Dtype \n",
      "---  ------             --------------  ----- \n",
      " 0   user_id            1565 non-null   int64 \n",
      " 1   name               1565 non-null   object\n",
      " 2   age                1565 non-null   int64 \n",
      " 3   city               1565 non-null   object\n",
      " 4   subscription_type  1565 non-null   object\n",
      "dtypes: int64(2), object(3)\n",
      "memory usage: 61.3+ KB\n"
     ]
    }
   ],
   "source": [
    "data_users.info()"
   ]
  },
  {
   "cell_type": "code",
   "execution_count": 7,
   "id": "09737e1e-f3bc-47b1-a76b-f6cd558667fc",
   "metadata": {},
   "outputs": [
    {
     "name": "stdout",
     "output_type": "stream",
     "text": [
      "<class 'pandas.core.frame.DataFrame'>\n",
      "RangeIndex: 18068 entries, 0 to 18067\n",
      "Data columns (total 4 columns):\n",
      " #   Column    Non-Null Count  Dtype  \n",
      "---  ------    --------------  -----  \n",
      " 0   user_id   18068 non-null  int64  \n",
      " 1   distance  18068 non-null  float64\n",
      " 2   duration  18068 non-null  float64\n",
      " 3   date      18068 non-null  object \n",
      "dtypes: float64(2), int64(1), object(1)\n",
      "memory usage: 564.8+ KB\n"
     ]
    }
   ],
   "source": [
    "data_rides.info()"
   ]
  },
  {
   "cell_type": "code",
   "execution_count": 8,
   "id": "d2a5e748-7bb1-4d8d-beb6-270974c4ce84",
   "metadata": {},
   "outputs": [
    {
     "name": "stdout",
     "output_type": "stream",
     "text": [
      "<class 'pandas.core.frame.DataFrame'>\n",
      "RangeIndex: 2 entries, 0 to 1\n",
      "Data columns (total 4 columns):\n",
      " #   Column             Non-Null Count  Dtype \n",
      "---  ------             --------------  ----- \n",
      " 0   subscription_type  2 non-null      object\n",
      " 1   minute_price       2 non-null      int64 \n",
      " 2   start_ride_price   2 non-null      int64 \n",
      " 3   subscription_fee   2 non-null      int64 \n",
      "dtypes: int64(3), object(1)\n",
      "memory usage: 192.0+ bytes\n"
     ]
    }
   ],
   "source": [
    "data_subs.info()"
   ]
  },
  {
   "cell_type": "markdown",
   "id": "4eb51d0f-8f90-43b7-a2e2-ff977a6d0ebc",
   "metadata": {},
   "source": [
    "#### Шаг 2. Предобработка данных"
   ]
  },
  {
   "cell_type": "markdown",
   "id": "348c991f-1550-48d9-b677-73206552d453",
   "metadata": {},
   "source": [
    "Начинаю предобработку: отформатирую дату, добавлю колонку с номером месяца, поищу явные дубликаты."
   ]
  },
  {
   "cell_type": "code",
   "execution_count": 9,
   "id": "a7bbb3ea-afab-4c9e-ba14-1d0802396b2d",
   "metadata": {},
   "outputs": [
    {
     "name": "stdout",
     "output_type": "stream",
     "text": [
      "31\n",
      "0\n"
     ]
    }
   ],
   "source": [
    "data_rides['date'] = pd.to_datetime(data_rides['date'], format='%Y-%m-%d')\n",
    "data_rides['month'] = data_rides['date'].dt.month\n",
    "print(data_users.duplicated().sum())\n",
    "print(data_rides.duplicated().sum())"
   ]
  },
  {
   "cell_type": "code",
   "execution_count": 10,
   "id": "2ce8141c-9767-43fa-9366-99225bf940e5",
   "metadata": {},
   "outputs": [],
   "source": [
    "data_users = data_users.drop_duplicates()"
   ]
  },
  {
   "cell_type": "markdown",
   "id": "8f31007a-704f-4a87-b048-57fab1131ae9",
   "metadata": {},
   "source": [
    "На этом всё. Тип данных везде выглядит корректно, пропуски отсутствуют."
   ]
  },
  {
   "cell_type": "markdown",
   "id": "c1b69046-ba95-414d-bd90-36df8462bfe0",
   "metadata": {},
   "source": [
    "#### Шаг 3. Исследовательский анализ данных"
   ]
  },
  {
   "cell_type": "code",
   "execution_count": 11,
   "id": "39bdcad9-5dac-4a1e-bedb-4cf4ab2cfe4f",
   "metadata": {},
   "outputs": [
    {
     "data": {
      "image/png": "[encoded data removed]",
      "text/plain": [
       "<Figure size 640x480 with 1 Axes>"
      ]
     },
     "metadata": {},
     "output_type": "display_data"
    }
   ],
   "source": [
    "data_users['city'].value_counts().plot(kind='bar')\n",
    "plt.xlabel('Города')\n",
    "plt.ylabel('Частота встречаемости')\n",
    "plt.title('Частота встречаемости городов в выборке')\n",
    "plt.show()"
   ]
  },
  {
   "cell_type": "code",
   "execution_count": 12,
   "id": "ce9ebee0-2a62-433a-9f44-fd4d95c3fa16",
   "metadata": {},
   "outputs": [
    {
     "data": {
      "text/plain": [
       "Пятигорск         219\n",
       "Екатеринбург      204\n",
       "Ростов-на-Дону    198\n",
       "Краснодар         193\n",
       "Сочи              189\n",
       "Омск              183\n",
       "Тюмень            180\n",
       "Москва            168\n",
       "Name: city, dtype: int64"
      ]
     },
     "execution_count": 12,
     "metadata": {},
     "output_type": "execute_result"
    }
   ],
   "source": [
    "data_users['city'].value_counts()"
   ]
  },
  {
   "cell_type": "markdown",
   "id": "9512fec0-35a4-4db2-9edc-fd02887c0a6b",
   "metadata": {},
   "source": [
    "В выборке присутствуют 4 южных города, 3 сибирских и столица. Причём, Москва в выборке встречается реже всего. Видимо, это обусловлено высокой конкурентностью рынка проката в городе. Чаще всего встречается Пятигорск. Небольшой курортный город, являющийся транспортным хабом региона КМВ. Похоже, прокатные самокаты там востребованы."
   ]
  },
  {
   "cell_type": "code",
   "execution_count": 13,
   "id": "f82ec075-43c4-4db8-9e88-83c1723f2e8b",
   "metadata": {},
   "outputs": [
    {
     "data": {
      "image/png": "[encoded data removed]",
      "text/plain": [
       "<Figure size 640x480 with 1 Axes>"
      ]
     },
     "metadata": {},
     "output_type": "display_data"
    }
   ],
   "source": [
    "data_users['subscription_type'].value_counts().plot(kind='pie', autopct='%1.1f%%');"
   ]
  },
  {
   "cell_type": "markdown",
   "id": "e570b662-d04e-44c5-9d72-7a0e6aa2efd1",
   "metadata": {},
   "source": [
    "Чуть больше половины наблюдаемых пользователей не имеют абонентской подписки."
   ]
  },
  {
   "cell_type": "code",
   "execution_count": 14,
   "id": "710cc5db-6627-4324-be8e-72b4083443fd",
   "metadata": {},
   "outputs": [
    {
     "data": {
      "image/png": "[encoded data removed]",
      "text/plain": [
       "<Figure size 640x480 with 1 Axes>"
      ]
     },
     "metadata": {},
     "output_type": "display_data"
    }
   ],
   "source": [
    "data_users['age'].hist(bins=40, range=(10, 50));\n",
    "plt.xlabel('Возраст')\n",
    "plt.ylabel('Частота встречаемости')\n",
    "plt.title('Распределение возраста пользователей')\n",
    "plt.axvline(x=25, color='r', linestyle='--', linewidth=3, label='Средний возраст')\n",
    "plt.legend()\n",
    "plt.show()"
   ]
  },
  {
   "cell_type": "code",
   "execution_count": 15,
   "id": "44ac1d01-b1b3-4e1c-baff-bbd9587d3e57",
   "metadata": {},
   "outputs": [
    {
     "data": {
      "text/plain": [
       "count    1534.000000\n",
       "mean       24.903520\n",
       "std         4.572367\n",
       "min        12.000000\n",
       "25%        22.000000\n",
       "50%        25.000000\n",
       "75%        28.000000\n",
       "max        43.000000\n",
       "Name: age, dtype: float64"
      ]
     },
     "execution_count": 15,
     "metadata": {},
     "output_type": "execute_result"
    }
   ],
   "source": [
    "data_users['age'].describe()"
   ]
  },
  {
   "cell_type": "markdown",
   "id": "dff84919-c6c7-409f-be72-5f88d44daacc",
   "metadata": {},
   "source": [
    "Распределение возраста похоже на нормальное. Мода, среднее и медиана - 25 лет."
   ]
  },
  {
   "cell_type": "code",
   "execution_count": 16,
   "id": "bc5dc750-445b-4abf-b292-a5cf84df2045",
   "metadata": {},
   "outputs": [
    {
     "data": {
      "image/png": "[encoded data removed]",
      "text/plain": [
       "<Figure size 640x480 with 1 Axes>"
      ]
     },
     "metadata": {},
     "output_type": "display_data"
    }
   ],
   "source": [
    "data_rides['distance'].hist(bins=150, range=(0, 8000));\n",
    "plt.xlabel('Пройденное расстояние')\n",
    "plt.ylabel('Частота встречаемости')\n",
    "plt.title('Распределение пройденного расстояния за поездку')\n",
    "plt.axvline(x=3070, color='r', linestyle='--', linewidth=3, label='Среднее расстояние')\n",
    "plt.legend()\n",
    "plt.show()"
   ]
  },
  {
   "cell_type": "code",
   "execution_count": 17,
   "id": "5fb9351b-fa67-4ad2-b058-24134bcb4fbd",
   "metadata": {},
   "outputs": [
    {
     "data": {
      "text/plain": [
       "count    18068.000000\n",
       "mean      3070.659976\n",
       "std       1116.831209\n",
       "min          0.855683\n",
       "25%       2543.226360\n",
       "50%       3133.609994\n",
       "75%       3776.222735\n",
       "max       7211.007745\n",
       "Name: distance, dtype: float64"
      ]
     },
     "execution_count": 17,
     "metadata": {},
     "output_type": "execute_result"
    }
   ],
   "source": [
    "data_rides['distance'].describe()"
   ]
  },
  {
   "cell_type": "markdown",
   "id": "84373570-530d-4447-b1c1-686df3df54c3",
   "metadata": {},
   "source": [
    "Расстояние за поездку имеет смешанное распределение, состоящее из двух, близких к нормальным. На графике видно распределение коротких поездок со средним около 650м и дальних со средним примерно 3км. Медианное среднее по всей выборке составляет 3,1км. Длительных поездок существенно больше, чем коротких. Справа виден хвост из редких поездок на расстояние более 5км. Наличие пары пиков дистанций наталкивает на мысль, что может быть несколько сценариев пользования приложением и с этими категориями стоит отдельно работать."
   ]
  },
  {
   "cell_type": "code",
   "execution_count": 18,
   "id": "98469ade-4134-482c-b8de-99ccd958fa02",
   "metadata": {},
   "outputs": [
    {
     "data": {
      "image/png": "[encoded data removed]",
      "text/plain": [
       "<Figure size 1000x300 with 1 Axes>"
      ]
     },
     "metadata": {},
     "output_type": "display_data"
    }
   ],
   "source": [
    "plt.figure(figsize=(10, 3)) \n",
    "plt.boxplot(data_rides['distance'], vert=False);"
   ]
  },
  {
   "cell_type": "markdown",
   "id": "5af781bc-766d-40ae-a8fe-8466ac731803",
   "metadata": {},
   "source": [
    "Боксплот определяет выбросами значения менее 650м и более 5,7км. Но сильно выдающихся точек не видно, всё похоже на правду, поэтому оставляю выбросы как есть."
   ]
  },
  {
   "cell_type": "code",
   "execution_count": 19,
   "id": "57b56fa0-38d9-4b4c-b55d-51afb80347b4",
   "metadata": {},
   "outputs": [
    {
     "data": {
      "image/png": "[encoded data removed]",
      "text/plain": [
       "<Figure size 640x480 with 1 Axes>"
      ]
     },
     "metadata": {},
     "output_type": "display_data"
    }
   ],
   "source": [
    "rides_table = data_rides.pivot_table(index='user_id', values='distance', aggfunc='mean')\n",
    "rides_table.hist(bins=150, range=(1000, 5000));\n",
    "plt.xlabel('Пройденное расстояние')\n",
    "plt.ylabel('Частота встречаемости')\n",
    "plt.title('Распределение пройденного расстояния за поездку по пользователям')\n",
    "plt.axvline(x=3077, color='r', linestyle='--', linewidth=3, label='Среднее расстояние')\n",
    "plt.legend()\n",
    "plt.show()"
   ]
  },
  {
   "cell_type": "markdown",
   "id": "5043ba3a-90af-4bae-a65b-54230cbcf2cb",
   "metadata": {},
   "source": [
    "Распределение среднего пройденного расстояния по пользователям близко к нормальному."
   ]
  },
  {
   "cell_type": "code",
   "execution_count": 20,
   "id": "f4390e1e-2f8a-4257-9f35-455a3bed97f4",
   "metadata": {},
   "outputs": [
    {
     "data": {
      "image/png": "[encoded data removed]",
      "text/plain": [
       "<Figure size 1000x300 with 1 Axes>"
      ]
     },
     "metadata": {},
     "output_type": "display_data"
    }
   ],
   "source": [
    "plt.figure(figsize=(10, 3)) \n",
    "plt.boxplot(rides_table, vert=False);"
   ]
  },
  {
   "cell_type": "markdown",
   "id": "6822723c-7719-4945-9a33-b3a457e6061c",
   "metadata": {},
   "source": [
    "Видно, что есть некоторые пользователи, которые выбиваются из общей массы в пройденном расстоянии, но есть и такие, чьи поездки короче обычных.  "
   ]
  },
  {
   "cell_type": "code",
   "execution_count": 21,
   "id": "f6a7ba15-863a-4f70-92ea-f02a5f8f4038",
   "metadata": {},
   "outputs": [
    {
     "data": {
      "image/png": "[encoded data removed]",
      "text/plain": [
       "<Figure size 640x480 with 1 Axes>"
      ]
     },
     "metadata": {},
     "output_type": "display_data"
    }
   ],
   "source": [
    "data_rides['duration'].hist(bins=200, range=(0, 50));\n",
    "plt.xlabel('Длительность поездки')\n",
    "plt.ylabel('Частота встречаемости')\n",
    "plt.title('Распределение длительностей одной поездки')\n",
    "plt.axvline(x=17.8, color='r', linestyle='--', linewidth=3, label='Средняя длительность')\n",
    "plt.legend()\n",
    "plt.show()"
   ]
  },
  {
   "cell_type": "code",
   "execution_count": 22,
   "id": "43a6e298-27ee-4b16-96d0-32cb87f91cf8",
   "metadata": {},
   "outputs": [
    {
     "data": {
      "text/plain": [
       "count    18068.000000\n",
       "mean        17.805011\n",
       "std          6.091051\n",
       "min          0.500000\n",
       "25%         13.597563\n",
       "50%         17.678395\n",
       "75%         21.724800\n",
       "max         40.823963\n",
       "Name: duration, dtype: float64"
      ]
     },
     "execution_count": 22,
     "metadata": {},
     "output_type": "execute_result"
    }
   ],
   "source": [
    "data_rides['duration'].describe()"
   ]
  },
  {
   "cell_type": "markdown",
   "id": "7cdb22ce-fe8b-4262-82af-dc748533056a",
   "metadata": {},
   "source": [
    "На графике видно необычно короткие сессии, длительностью менее минуты. Сделаю срез и посмотрю их характеристики."
   ]
  },
  {
   "cell_type": "code",
   "execution_count": 23,
   "id": "13143ab4-9213-4673-9f03-acc3b36547b8",
   "metadata": {},
   "outputs": [
    {
     "data": {
      "text/html": [
       "<div>\n",
       "<style scoped>\n",
       "    .dataframe tbody tr th:only-of-type {\n",
       "        vertical-align: middle;\n",
       "    }\n",
       "\n",
       "    .dataframe tbody tr th {\n",
       "        vertical-align: top;\n",
       "    }\n",
       "\n",
       "    .dataframe thead th {\n",
       "        text-align: right;\n",
       "    }\n",
       "</style>\n",
       "<table border=\"1\" class=\"dataframe\">\n",
       "  <thead>\n",
       "    <tr style=\"text-align: right;\">\n",
       "      <th></th>\n",
       "      <th>user_id</th>\n",
       "      <th>distance</th>\n",
       "      <th>duration</th>\n",
       "      <th>date</th>\n",
       "      <th>month</th>\n",
       "    </tr>\n",
       "  </thead>\n",
       "  <tbody>\n",
       "    <tr>\n",
       "      <th>6531</th>\n",
       "      <td>701</td>\n",
       "      <td>4196.445201</td>\n",
       "      <td>0.5</td>\n",
       "      <td>2021-08-31</td>\n",
       "      <td>8</td>\n",
       "    </tr>\n",
       "    <tr>\n",
       "      <th>6570</th>\n",
       "      <td>704</td>\n",
       "      <td>4830.824371</td>\n",
       "      <td>0.5</td>\n",
       "      <td>2021-10-14</td>\n",
       "      <td>10</td>\n",
       "    </tr>\n",
       "    <tr>\n",
       "      <th>6680</th>\n",
       "      <td>712</td>\n",
       "      <td>4684.004397</td>\n",
       "      <td>0.5</td>\n",
       "      <td>2021-03-04</td>\n",
       "      <td>3</td>\n",
       "    </tr>\n",
       "    <tr>\n",
       "      <th>6695</th>\n",
       "      <td>713</td>\n",
       "      <td>5215.642710</td>\n",
       "      <td>0.5</td>\n",
       "      <td>2021-02-25</td>\n",
       "      <td>2</td>\n",
       "    </tr>\n",
       "    <tr>\n",
       "      <th>6768</th>\n",
       "      <td>718</td>\n",
       "      <td>5197.436649</td>\n",
       "      <td>0.5</td>\n",
       "      <td>2021-02-11</td>\n",
       "      <td>2</td>\n",
       "    </tr>\n",
       "    <tr>\n",
       "      <th>...</th>\n",
       "      <td>...</td>\n",
       "      <td>...</td>\n",
       "      <td>...</td>\n",
       "      <td>...</td>\n",
       "      <td>...</td>\n",
       "    </tr>\n",
       "    <tr>\n",
       "      <th>17004</th>\n",
       "      <td>1460</td>\n",
       "      <td>5531.335845</td>\n",
       "      <td>0.5</td>\n",
       "      <td>2021-01-19</td>\n",
       "      <td>1</td>\n",
       "    </tr>\n",
       "    <tr>\n",
       "      <th>17242</th>\n",
       "      <td>1477</td>\n",
       "      <td>6724.932981</td>\n",
       "      <td>0.5</td>\n",
       "      <td>2021-01-12</td>\n",
       "      <td>1</td>\n",
       "    </tr>\n",
       "    <tr>\n",
       "      <th>17314</th>\n",
       "      <td>1483</td>\n",
       "      <td>4445.481070</td>\n",
       "      <td>0.5</td>\n",
       "      <td>2021-03-06</td>\n",
       "      <td>3</td>\n",
       "    </tr>\n",
       "    <tr>\n",
       "      <th>17505</th>\n",
       "      <td>1496</td>\n",
       "      <td>5722.551787</td>\n",
       "      <td>0.5</td>\n",
       "      <td>2021-02-14</td>\n",
       "      <td>2</td>\n",
       "    </tr>\n",
       "    <tr>\n",
       "      <th>17909</th>\n",
       "      <td>1524</td>\n",
       "      <td>4103.998874</td>\n",
       "      <td>0.5</td>\n",
       "      <td>2021-06-18</td>\n",
       "      <td>6</td>\n",
       "    </tr>\n",
       "  </tbody>\n",
       "</table>\n",
       "<p>95 rows × 5 columns</p>\n",
       "</div>"
      ],
      "text/plain": [
       "       user_id     distance  duration       date  month\n",
       "6531       701  4196.445201       0.5 2021-08-31      8\n",
       "6570       704  4830.824371       0.5 2021-10-14     10\n",
       "6680       712  4684.004397       0.5 2021-03-04      3\n",
       "6695       713  5215.642710       0.5 2021-02-25      2\n",
       "6768       718  5197.436649       0.5 2021-02-11      2\n",
       "...        ...          ...       ...        ...    ...\n",
       "17004     1460  5531.335845       0.5 2021-01-19      1\n",
       "17242     1477  6724.932981       0.5 2021-01-12      1\n",
       "17314     1483  4445.481070       0.5 2021-03-06      3\n",
       "17505     1496  5722.551787       0.5 2021-02-14      2\n",
       "17909     1524  4103.998874       0.5 2021-06-18      6\n",
       "\n",
       "[95 rows x 5 columns]"
      ]
     },
     "execution_count": 23,
     "metadata": {},
     "output_type": "execute_result"
    }
   ],
   "source": [
    "data_rides.query('duration < 1')"
   ]
  },
  {
   "cell_type": "markdown",
   "id": "19f9c56e-c0c1-4df0-82c8-f65425e452cf",
   "metadata": {},
   "source": [
    "Все сессии подозрительно имеют длительность в полминуты, при этом дистанция, пройденная за такую сессию, значительна. Видимо, это ошибка логгирования. Нужно очистить датасет от таких записей."
   ]
  },
  {
   "cell_type": "code",
   "execution_count": 24,
   "id": "294fa5eb-7ff9-43ff-95ae-f4b2203d74a7",
   "metadata": {},
   "outputs": [],
   "source": [
    "data_rides = data_rides[data_rides['duration'] != 0.5]"
   ]
  },
  {
   "cell_type": "markdown",
   "id": "3b5a0847-4804-4761-9abf-6fc764e6470d",
   "metadata": {},
   "source": [
    "#### Шаг 4. Объединение данных"
   ]
  },
  {
   "cell_type": "markdown",
   "id": "b0d9f7c1-5280-4f85-b94e-af05501023a8",
   "metadata": {},
   "source": [
    "Объединю данные о пользователях, поездках и подписках в один датафрейм."
   ]
  },
  {
   "cell_type": "code",
   "execution_count": 25,
   "id": "13462ab2-a01c-4da8-878f-0a98e508c599",
   "metadata": {},
   "outputs": [
    {
     "data": {
      "text/html": [
       "<div>\n",
       "<style scoped>\n",
       "    .dataframe tbody tr th:only-of-type {\n",
       "        vertical-align: middle;\n",
       "    }\n",
       "\n",
       "    .dataframe tbody tr th {\n",
       "        vertical-align: top;\n",
       "    }\n",
       "\n",
       "    .dataframe thead th {\n",
       "        text-align: right;\n",
       "    }\n",
       "</style>\n",
       "<table border=\"1\" class=\"dataframe\">\n",
       "  <thead>\n",
       "    <tr style=\"text-align: right;\">\n",
       "      <th></th>\n",
       "      <th>user_id</th>\n",
       "      <th>name</th>\n",
       "      <th>age</th>\n",
       "      <th>city</th>\n",
       "      <th>subscription_type</th>\n",
       "      <th>distance</th>\n",
       "      <th>duration</th>\n",
       "      <th>date</th>\n",
       "      <th>month</th>\n",
       "      <th>minute_price</th>\n",
       "      <th>start_ride_price</th>\n",
       "      <th>subscription_fee</th>\n",
       "    </tr>\n",
       "  </thead>\n",
       "  <tbody>\n",
       "    <tr>\n",
       "      <th>0</th>\n",
       "      <td>1</td>\n",
       "      <td>Кира</td>\n",
       "      <td>22</td>\n",
       "      <td>Тюмень</td>\n",
       "      <td>ultra</td>\n",
       "      <td>4409.919140</td>\n",
       "      <td>25.599769</td>\n",
       "      <td>2021-01-01</td>\n",
       "      <td>1</td>\n",
       "      <td>6</td>\n",
       "      <td>0</td>\n",
       "      <td>199</td>\n",
       "    </tr>\n",
       "    <tr>\n",
       "      <th>1</th>\n",
       "      <td>1</td>\n",
       "      <td>Кира</td>\n",
       "      <td>22</td>\n",
       "      <td>Тюмень</td>\n",
       "      <td>ultra</td>\n",
       "      <td>2617.592153</td>\n",
       "      <td>15.816871</td>\n",
       "      <td>2021-01-18</td>\n",
       "      <td>1</td>\n",
       "      <td>6</td>\n",
       "      <td>0</td>\n",
       "      <td>199</td>\n",
       "    </tr>\n",
       "    <tr>\n",
       "      <th>2</th>\n",
       "      <td>1</td>\n",
       "      <td>Кира</td>\n",
       "      <td>22</td>\n",
       "      <td>Тюмень</td>\n",
       "      <td>ultra</td>\n",
       "      <td>754.159807</td>\n",
       "      <td>6.232113</td>\n",
       "      <td>2021-04-20</td>\n",
       "      <td>4</td>\n",
       "      <td>6</td>\n",
       "      <td>0</td>\n",
       "      <td>199</td>\n",
       "    </tr>\n",
       "    <tr>\n",
       "      <th>3</th>\n",
       "      <td>1</td>\n",
       "      <td>Кира</td>\n",
       "      <td>22</td>\n",
       "      <td>Тюмень</td>\n",
       "      <td>ultra</td>\n",
       "      <td>2694.783254</td>\n",
       "      <td>18.511000</td>\n",
       "      <td>2021-08-11</td>\n",
       "      <td>8</td>\n",
       "      <td>6</td>\n",
       "      <td>0</td>\n",
       "      <td>199</td>\n",
       "    </tr>\n",
       "    <tr>\n",
       "      <th>4</th>\n",
       "      <td>1</td>\n",
       "      <td>Кира</td>\n",
       "      <td>22</td>\n",
       "      <td>Тюмень</td>\n",
       "      <td>ultra</td>\n",
       "      <td>4028.687306</td>\n",
       "      <td>26.265803</td>\n",
       "      <td>2021-08-28</td>\n",
       "      <td>8</td>\n",
       "      <td>6</td>\n",
       "      <td>0</td>\n",
       "      <td>199</td>\n",
       "    </tr>\n",
       "  </tbody>\n",
       "</table>\n",
       "</div>"
      ],
      "text/plain": [
       "   user_id  name  age    city subscription_type     distance   duration  \\\n",
       "0        1  Кира   22  Тюмень             ultra  4409.919140  25.599769   \n",
       "1        1  Кира   22  Тюмень             ultra  2617.592153  15.816871   \n",
       "2        1  Кира   22  Тюмень             ultra   754.159807   6.232113   \n",
       "3        1  Кира   22  Тюмень             ultra  2694.783254  18.511000   \n",
       "4        1  Кира   22  Тюмень             ultra  4028.687306  26.265803   \n",
       "\n",
       "        date  month  minute_price  start_ride_price  subscription_fee  \n",
       "0 2021-01-01      1             6                 0               199  \n",
       "1 2021-01-18      1             6                 0               199  \n",
       "2 2021-04-20      4             6                 0               199  \n",
       "3 2021-08-11      8             6                 0               199  \n",
       "4 2021-08-28      8             6                 0               199  "
      ]
     },
     "execution_count": 25,
     "metadata": {},
     "output_type": "execute_result"
    }
   ],
   "source": [
    "merged_data = pd.merge(data_users, data_rides, on='user_id', how='inner')\n",
    "data_merged = pd.merge(merged_data, data_subs, on='subscription_type', how='left')\n",
    "data_merged.head(5)"
   ]
  },
  {
   "cell_type": "markdown",
   "id": "27e886f0-932a-4d30-b4f8-3f95a406b666",
   "metadata": {},
   "source": [
    "Теперь разделю его на пользователей с подпиской и без и сравню визуализации данных."
   ]
  },
  {
   "cell_type": "code",
   "execution_count": 26,
   "id": "78e9abee-949d-4541-80cb-116ea1070630",
   "metadata": {},
   "outputs": [],
   "source": [
    "sub_free = data_merged[data_merged['subscription_type'] == 'free']\n",
    "sub_ultra = data_merged[data_merged['subscription_type'] == 'ultra']"
   ]
  },
  {
   "cell_type": "code",
   "execution_count": 27,
   "id": "77a1d814-5dbe-46b8-b2e5-fdb334eec679",
   "metadata": {},
   "outputs": [
    {
     "data": {
      "image/png": "[encoded data removed]",
      "text/plain": [
       "<Figure size 1000x600 with 1 Axes>"
      ]
     },
     "metadata": {},
     "output_type": "display_data"
    }
   ],
   "source": [
    "plt.figure(figsize=(10, 6))\n",
    "plt.hist(sub_free['distance'], bins=200, alpha=0.5, label='Подписка free', color='blue')  \n",
    "plt.hist(sub_ultra['distance'], bins=200, alpha=0.5, label='Подписка ultra', color='red')  \n",
    "plt.xlabel('Расстояние')\n",
    "plt.ylabel('Частота')\n",
    "plt.title('Сравнение расстояний на подписках free и ultra') \n",
    "plt.grid(True)\n",
    "plt.axvline(x=3102, color='r', linestyle='--', linewidth=2, label='Медианное расстояние free')\n",
    "plt.axvline(x=3149, color='b', linestyle='--', linewidth=2, label='Медианное расстояние ultra')\n",
    "plt.legend()\n",
    "plt.show()"
   ]
  },
  {
   "cell_type": "code",
   "execution_count": 28,
   "id": "60013d2c-b0a4-4a3f-8799-eb16e96fb626",
   "metadata": {},
   "outputs": [
    {
     "data": {
      "text/plain": [
       "count    11473.000000\n",
       "mean      3028.374239\n",
       "std       1235.541051\n",
       "min          0.855683\n",
       "25%       2360.878149\n",
       "50%       3102.083025\n",
       "75%       3883.979311\n",
       "max       7066.003772\n",
       "Name: distance, dtype: float64"
      ]
     },
     "execution_count": 28,
     "metadata": {},
     "output_type": "execute_result"
    }
   ],
   "source": [
    "sub_free['distance'].describe()"
   ]
  },
  {
   "cell_type": "code",
   "execution_count": 29,
   "id": "196126e7-3081-4ade-a8ab-35ff0dc457a5",
   "metadata": {},
   "outputs": [
    {
     "data": {
      "text/plain": [
       "count    6500.000000\n",
       "mean     3115.445388\n",
       "std       836.895330\n",
       "min       244.210438\n",
       "25%      2785.444017\n",
       "50%      3148.637229\n",
       "75%      3560.574425\n",
       "max      5699.769662\n",
       "Name: distance, dtype: float64"
      ]
     },
     "execution_count": 29,
     "metadata": {},
     "output_type": "execute_result"
    }
   ],
   "source": [
    "sub_ultra['distance'].describe()"
   ]
  },
  {
   "cell_type": "markdown",
   "id": "1450b074-d5b4-4208-9273-80f3fab00a6a",
   "metadata": {},
   "source": [
    "В целом распределения схожи по форме. Пользователи без подписки чаще ездят на короткие дистанции и разброс значений вокруг среднего  на длинных дистанциях у них существенно больше. Пользователи с подпиской предпочитают средние дистанции с меньшим разбросом вокруг среднего 3,1км."
   ]
  },
  {
   "cell_type": "code",
   "execution_count": 30,
   "id": "12cfd27e-d46e-4b81-9ce1-153449daa76d",
   "metadata": {},
   "outputs": [
    {
     "data": {
      "image/png": "[encoded data removed]",
      "text/plain": [
       "<Figure size 1000x600 with 1 Axes>"
      ]
     },
     "metadata": {},
     "output_type": "display_data"
    }
   ],
   "source": [
    "plt.figure(figsize=(10, 6))\n",
    "plt.hist(sub_free['duration'], bins=200, alpha=0.5, label='Подписка free', color='blue')  \n",
    "plt.hist(sub_ultra['duration'], bins=200, alpha=0.5, label='Подписка ultra', color='red')  \n",
    "plt.xlabel('Длительность')\n",
    "plt.ylabel('Частота')\n",
    "plt.title('Сравнение длительностей на подписках free и ultra') \n",
    "plt.axvline(x=17.38, color='r', linestyle='--', linewidth=2, label='Медианная длительность free')\n",
    "plt.axvline(x=18.18, color='b', linestyle='--', linewidth=2, label='Медианная длительность ultra')\n",
    "plt.legend()\n",
    "plt.grid(True)\n",
    "plt.show()"
   ]
  },
  {
   "cell_type": "code",
   "execution_count": 31,
   "id": "a7be8e27-ee8e-4f78-9bf0-60b072d5da59",
   "metadata": {},
   "outputs": [
    {
     "data": {
      "text/plain": [
       "count    11473.000000\n",
       "mean        17.530771\n",
       "std          6.162609\n",
       "min          2.035632\n",
       "25%         13.085688\n",
       "50%         17.383807\n",
       "75%         21.638038\n",
       "max         34.948498\n",
       "Name: duration, dtype: float64"
      ]
     },
     "execution_count": 31,
     "metadata": {},
     "output_type": "execute_result"
    }
   ],
   "source": [
    "sub_free['duration'].describe()"
   ]
  },
  {
   "cell_type": "code",
   "execution_count": 32,
   "id": "386bc7d2-1869-4f83-ad89-35a88294da24",
   "metadata": {},
   "outputs": [
    {
     "data": {
      "text/plain": [
       "count    6500.000000\n",
       "mean       18.541985\n",
       "std         5.572048\n",
       "min         3.760353\n",
       "25%        14.524654\n",
       "50%        18.178153\n",
       "75%        21.884129\n",
       "max        40.823963\n",
       "Name: duration, dtype: float64"
      ]
     },
     "execution_count": 32,
     "metadata": {},
     "output_type": "execute_result"
    }
   ],
   "source": [
    "sub_ultra['duration'].describe()"
   ]
  },
  {
   "cell_type": "markdown",
   "id": "ba088a18-6fd1-4937-a690-372072a18dd3",
   "metadata": {},
   "source": [
    "Распределение длительностей поездок у пользователей обеих категорий ещё более схоже. Разница в разбросе вокруг среднего менее выражена. Пользователи с подпиской реже ездят менее 5 минут, но медианная длительность у пользователей без подписки чуть больше."
   ]
  },
  {
   "cell_type": "markdown",
   "id": "a43276c4-73b6-4181-b879-46debbf4d114",
   "metadata": {},
   "source": [
    "#### Шаг 5. Подсчёт выручки"
   ]
  },
  {
   "cell_type": "markdown",
   "id": "d72b8f3b-55fa-4c78-89ae-9eae1e20d637",
   "metadata": {},
   "source": [
    "Создам датафрейм с агрегированными данными о поездках, найду суммарное расстояние, количество поездок и суммарное время для каждого пользователя за каждый месяц. Туда же добавлю распределение помесячной выручки, которую принёс каждый пользователь. Рассчитаю её по формуле: (стоимость старта поездки × количество поездок) + (стоимость одной минуты поездки × общая продолжительность всех поездок в минутах) + стоимость подписки."
   ]
  },
  {
   "cell_type": "code",
   "execution_count": 33,
   "id": "f24d9907-e2ab-4c6b-afd0-e39df07f9f70",
   "metadata": {},
   "outputs": [],
   "source": [
    "data_merged['duration'] = np.ceil(data_merged['duration'])\n",
    "data_merged['distance'] = np.ceil(data_merged['distance']) #округлю продолжительность и расстояние поездки"
   ]
  },
  {
   "cell_type": "code",
   "execution_count": 34,
   "id": "f1486d47-d39e-41cf-9692-df0729962375",
   "metadata": {},
   "outputs": [
    {
     "data": {
      "text/html": [
       "<div>\n",
       "<style scoped>\n",
       "    .dataframe tbody tr th:only-of-type {\n",
       "        vertical-align: middle;\n",
       "    }\n",
       "\n",
       "    .dataframe tbody tr th {\n",
       "        vertical-align: top;\n",
       "    }\n",
       "\n",
       "    .dataframe thead tr th {\n",
       "        text-align: left;\n",
       "    }\n",
       "\n",
       "    .dataframe thead tr:last-of-type th {\n",
       "        text-align: right;\n",
       "    }\n",
       "</style>\n",
       "<table border=\"1\" class=\"dataframe\">\n",
       "  <thead>\n",
       "    <tr>\n",
       "      <th></th>\n",
       "      <th colspan=\"24\" halign=\"left\">distance</th>\n",
       "      <th colspan=\"12\" halign=\"left\">duration</th>\n",
       "    </tr>\n",
       "    <tr>\n",
       "      <th></th>\n",
       "      <th colspan=\"12\" halign=\"left\">count</th>\n",
       "      <th colspan=\"12\" halign=\"left\">sum</th>\n",
       "      <th colspan=\"12\" halign=\"left\">sum</th>\n",
       "    </tr>\n",
       "    <tr>\n",
       "      <th>month</th>\n",
       "      <th>1</th>\n",
       "      <th>2</th>\n",
       "      <th>3</th>\n",
       "      <th>4</th>\n",
       "      <th>5</th>\n",
       "      <th>6</th>\n",
       "      <th>7</th>\n",
       "      <th>8</th>\n",
       "      <th>9</th>\n",
       "      <th>10</th>\n",
       "      <th>11</th>\n",
       "      <th>12</th>\n",
       "      <th>1</th>\n",
       "      <th>2</th>\n",
       "      <th>3</th>\n",
       "      <th>4</th>\n",
       "      <th>5</th>\n",
       "      <th>6</th>\n",
       "      <th>7</th>\n",
       "      <th>8</th>\n",
       "      <th>9</th>\n",
       "      <th>10</th>\n",
       "      <th>11</th>\n",
       "      <th>12</th>\n",
       "      <th>1</th>\n",
       "      <th>2</th>\n",
       "      <th>3</th>\n",
       "      <th>4</th>\n",
       "      <th>5</th>\n",
       "      <th>6</th>\n",
       "      <th>7</th>\n",
       "      <th>8</th>\n",
       "      <th>9</th>\n",
       "      <th>10</th>\n",
       "      <th>11</th>\n",
       "      <th>12</th>\n",
       "    </tr>\n",
       "    <tr>\n",
       "      <th>user_id</th>\n",
       "      <th></th>\n",
       "      <th></th>\n",
       "      <th></th>\n",
       "      <th></th>\n",
       "      <th></th>\n",
       "      <th></th>\n",
       "      <th></th>\n",
       "      <th></th>\n",
       "      <th></th>\n",
       "      <th></th>\n",
       "      <th></th>\n",
       "      <th></th>\n",
       "      <th></th>\n",
       "      <th></th>\n",
       "      <th></th>\n",
       "      <th></th>\n",
       "      <th></th>\n",
       "      <th></th>\n",
       "      <th></th>\n",
       "      <th></th>\n",
       "      <th></th>\n",
       "      <th></th>\n",
       "      <th></th>\n",
       "      <th></th>\n",
       "      <th></th>\n",
       "      <th></th>\n",
       "      <th></th>\n",
       "      <th></th>\n",
       "      <th></th>\n",
       "      <th></th>\n",
       "      <th></th>\n",
       "      <th></th>\n",
       "      <th></th>\n",
       "      <th></th>\n",
       "      <th></th>\n",
       "      <th></th>\n",
       "    </tr>\n",
       "  </thead>\n",
       "  <tbody>\n",
       "    <tr>\n",
       "      <th>1</th>\n",
       "      <td>2</td>\n",
       "      <td>0</td>\n",
       "      <td>0</td>\n",
       "      <td>1</td>\n",
       "      <td>0</td>\n",
       "      <td>0</td>\n",
       "      <td>0</td>\n",
       "      <td>2</td>\n",
       "      <td>0</td>\n",
       "      <td>2</td>\n",
       "      <td>3</td>\n",
       "      <td>2</td>\n",
       "      <td>7028</td>\n",
       "      <td>0</td>\n",
       "      <td>0</td>\n",
       "      <td>755</td>\n",
       "      <td>0</td>\n",
       "      <td>0</td>\n",
       "      <td>0</td>\n",
       "      <td>6724</td>\n",
       "      <td>0</td>\n",
       "      <td>5811</td>\n",
       "      <td>7005</td>\n",
       "      <td>6753</td>\n",
       "      <td>42</td>\n",
       "      <td>0</td>\n",
       "      <td>0</td>\n",
       "      <td>7</td>\n",
       "      <td>0</td>\n",
       "      <td>0</td>\n",
       "      <td>0</td>\n",
       "      <td>46</td>\n",
       "      <td>0</td>\n",
       "      <td>32</td>\n",
       "      <td>56</td>\n",
       "      <td>28</td>\n",
       "    </tr>\n",
       "    <tr>\n",
       "      <th>2</th>\n",
       "      <td>0</td>\n",
       "      <td>0</td>\n",
       "      <td>3</td>\n",
       "      <td>2</td>\n",
       "      <td>0</td>\n",
       "      <td>1</td>\n",
       "      <td>2</td>\n",
       "      <td>1</td>\n",
       "      <td>0</td>\n",
       "      <td>1</td>\n",
       "      <td>0</td>\n",
       "      <td>1</td>\n",
       "      <td>0</td>\n",
       "      <td>0</td>\n",
       "      <td>10190</td>\n",
       "      <td>6165</td>\n",
       "      <td>0</td>\n",
       "      <td>3256</td>\n",
       "      <td>6781</td>\n",
       "      <td>924</td>\n",
       "      <td>0</td>\n",
       "      <td>2825</td>\n",
       "      <td>0</td>\n",
       "      <td>3829</td>\n",
       "      <td>0</td>\n",
       "      <td>0</td>\n",
       "      <td>63</td>\n",
       "      <td>40</td>\n",
       "      <td>0</td>\n",
       "      <td>14</td>\n",
       "      <td>48</td>\n",
       "      <td>7</td>\n",
       "      <td>0</td>\n",
       "      <td>19</td>\n",
       "      <td>0</td>\n",
       "      <td>12</td>\n",
       "    </tr>\n",
       "    <tr>\n",
       "      <th>3</th>\n",
       "      <td>1</td>\n",
       "      <td>2</td>\n",
       "      <td>0</td>\n",
       "      <td>1</td>\n",
       "      <td>3</td>\n",
       "      <td>0</td>\n",
       "      <td>3</td>\n",
       "      <td>0</td>\n",
       "      <td>1</td>\n",
       "      <td>0</td>\n",
       "      <td>0</td>\n",
       "      <td>1</td>\n",
       "      <td>3062</td>\n",
       "      <td>5422</td>\n",
       "      <td>0</td>\n",
       "      <td>2957</td>\n",
       "      <td>9065</td>\n",
       "      <td>0</td>\n",
       "      <td>10921</td>\n",
       "      <td>0</td>\n",
       "      <td>2892</td>\n",
       "      <td>0</td>\n",
       "      <td>0</td>\n",
       "      <td>2594</td>\n",
       "      <td>13</td>\n",
       "      <td>39</td>\n",
       "      <td>0</td>\n",
       "      <td>21</td>\n",
       "      <td>63</td>\n",
       "      <td>0</td>\n",
       "      <td>67</td>\n",
       "      <td>0</td>\n",
       "      <td>23</td>\n",
       "      <td>0</td>\n",
       "      <td>0</td>\n",
       "      <td>13</td>\n",
       "    </tr>\n",
       "    <tr>\n",
       "      <th>4</th>\n",
       "      <td>0</td>\n",
       "      <td>2</td>\n",
       "      <td>0</td>\n",
       "      <td>0</td>\n",
       "      <td>0</td>\n",
       "      <td>2</td>\n",
       "      <td>3</td>\n",
       "      <td>1</td>\n",
       "      <td>0</td>\n",
       "      <td>4</td>\n",
       "      <td>2</td>\n",
       "      <td>0</td>\n",
       "      <td>0</td>\n",
       "      <td>6341</td>\n",
       "      <td>0</td>\n",
       "      <td>0</td>\n",
       "      <td>0</td>\n",
       "      <td>6754</td>\n",
       "      <td>10492</td>\n",
       "      <td>4650</td>\n",
       "      <td>0</td>\n",
       "      <td>13263</td>\n",
       "      <td>3344</td>\n",
       "      <td>0</td>\n",
       "      <td>0</td>\n",
       "      <td>49</td>\n",
       "      <td>0</td>\n",
       "      <td>0</td>\n",
       "      <td>0</td>\n",
       "      <td>45</td>\n",
       "      <td>56</td>\n",
       "      <td>36</td>\n",
       "      <td>0</td>\n",
       "      <td>79</td>\n",
       "      <td>28</td>\n",
       "      <td>0</td>\n",
       "    </tr>\n",
       "    <tr>\n",
       "      <th>5</th>\n",
       "      <td>1</td>\n",
       "      <td>1</td>\n",
       "      <td>3</td>\n",
       "      <td>1</td>\n",
       "      <td>2</td>\n",
       "      <td>0</td>\n",
       "      <td>1</td>\n",
       "      <td>1</td>\n",
       "      <td>0</td>\n",
       "      <td>1</td>\n",
       "      <td>0</td>\n",
       "      <td>0</td>\n",
       "      <td>3915</td>\n",
       "      <td>2562</td>\n",
       "      <td>10635</td>\n",
       "      <td>3374</td>\n",
       "      <td>5825</td>\n",
       "      <td>0</td>\n",
       "      <td>3312</td>\n",
       "      <td>2721</td>\n",
       "      <td>0</td>\n",
       "      <td>3219</td>\n",
       "      <td>0</td>\n",
       "      <td>0</td>\n",
       "      <td>13</td>\n",
       "      <td>12</td>\n",
       "      <td>57</td>\n",
       "      <td>15</td>\n",
       "      <td>33</td>\n",
       "      <td>0</td>\n",
       "      <td>12</td>\n",
       "      <td>18</td>\n",
       "      <td>0</td>\n",
       "      <td>20</td>\n",
       "      <td>0</td>\n",
       "      <td>0</td>\n",
       "    </tr>\n",
       "  </tbody>\n",
       "</table>\n",
       "</div>"
      ],
      "text/plain": [
       "        distance                                                            \\\n",
       "           count                                    sum                      \n",
       "month         1  2  3  4  5  6  7  8  9  10 11 12    1     2      3     4    \n",
       "user_id                                                                      \n",
       "1              2  0  0  1  0  0  0  2  0  2  3  2  7028     0      0   755   \n",
       "2              0  0  3  2  0  1  2  1  0  1  0  1     0     0  10190  6165   \n",
       "3              1  2  0  1  3  0  3  0  1  0  0  1  3062  5422      0  2957   \n",
       "4              0  2  0  0  0  2  3  1  0  4  2  0     0  6341      0     0   \n",
       "5              1  1  3  1  2  0  1  1  0  1  0  0  3915  2562  10635  3374   \n",
       "\n",
       "                                                          duration          \\\n",
       "                                                               sum           \n",
       "month      5     6      7     8     9      10    11    12       1   2   3    \n",
       "user_id                                                                      \n",
       "1           0     0      0  6724     0   5811  7005  6753       42   0   0   \n",
       "2           0  3256   6781   924     0   2825     0  3829        0   0  63   \n",
       "3        9065     0  10921     0  2892      0     0  2594       13  39   0   \n",
       "4           0  6754  10492  4650     0  13263  3344     0        0  49   0   \n",
       "5        5825     0   3312  2721     0   3219     0     0       13  12  57   \n",
       "\n",
       "                                             \n",
       "                                             \n",
       "month    4   5   6   7   8   9   10  11  12  \n",
       "user_id                                      \n",
       "1         7   0   0   0  46   0  32  56  28  \n",
       "2        40   0  14  48   7   0  19   0  12  \n",
       "3        21  63   0  67   0  23   0   0  13  \n",
       "4         0   0  45  56  36   0  79  28   0  \n",
       "5        15  33   0  12  18   0  20   0   0  "
      ]
     },
     "execution_count": 34,
     "metadata": {},
     "output_type": "execute_result"
    }
   ],
   "source": [
    "sum_table = (\n",
    "    data_merged.pivot_table(\n",
    "        index='user_id', \n",
    "        columns='month', \n",
    "        values=['distance', 'duration'], \n",
    "        aggfunc={\n",
    "            'distance': ['sum', 'count'], \n",
    "            'duration': 'sum'\n",
    "        }\n",
    "    )\n",
    "    .fillna(0)\n",
    "    .astype('int64')\n",
    ")\n",
    "sum_table.head(5)"
   ]
  },
  {
   "cell_type": "markdown",
   "id": "29ff591c-31b9-4f4e-8f3c-f00abc378f53",
   "metadata": {},
   "source": [
    "sum_table сгруппирована по уникальным user_id, а количество поездок, пройденное расстояние и длительность поездок распределены по колонкам месяцев. Избавлюсь от мультииндексов."
   ]
  },
  {
   "cell_type": "code",
   "execution_count": 35,
   "id": "7df951fb-c5d4-4e27-a741-b18fe326a401",
   "metadata": {},
   "outputs": [],
   "source": [
    "sum_table.columns = ['_'.join(map(str, col)) for col in sum_table.columns]\n",
    "sum_table = sum_table.reset_index()"
   ]
  },
  {
   "cell_type": "markdown",
   "id": "e4170210-ded7-4285-aa05-6707d237bb5e",
   "metadata": {},
   "source": [
    "Теперь для расчетов нужно добавить строки с информацией о тарифах."
   ]
  },
  {
   "cell_type": "code",
   "execution_count": 36,
   "id": "23c25ca5-6bb9-43f5-a3d9-de77dba3dd9a",
   "metadata": {},
   "outputs": [],
   "source": [
    "data_filtered = ((data_merged[['user_id', 'subscription_type','minute_price', 'start_ride_price', 'subscription_fee']])\n",
    "                 .drop_duplicates())\n",
    "final_table = pd.merge(sum_table, data_filtered, on='user_id', how='inner')"
   ]
  },
  {
   "cell_type": "markdown",
   "id": "a066b6ed-bbef-4d6c-bf68-80b6b3f1f6ac",
   "metadata": {},
   "source": [
    "Осталось только посчитать выручку. Заверну формулу в цикл и переберу значения во всех столбцах, после чего сформирую новые со значениями выручки."
   ]
  },
  {
   "cell_type": "code",
   "execution_count": 42,
   "id": "c693e6a2-621c-4fa0-bfd7-5e2e31884a91",
   "metadata": {},
   "outputs": [
    {
     "data": {
      "text/html": [
       "<div>\n",
       "<style scoped>\n",
       "    .dataframe tbody tr th:only-of-type {\n",
       "        vertical-align: middle;\n",
       "    }\n",
       "\n",
       "    .dataframe tbody tr th {\n",
       "        vertical-align: top;\n",
       "    }\n",
       "\n",
       "    .dataframe thead th {\n",
       "        text-align: right;\n",
       "    }\n",
       "</style>\n",
       "<table border=\"1\" class=\"dataframe\">\n",
       "  <thead>\n",
       "    <tr style=\"text-align: right;\">\n",
       "      <th></th>\n",
       "      <th>user_id</th>\n",
       "      <th>distance_count_1</th>\n",
       "      <th>distance_count_2</th>\n",
       "      <th>distance_count_3</th>\n",
       "      <th>distance_count_4</th>\n",
       "      <th>distance_count_5</th>\n",
       "      <th>distance_count_6</th>\n",
       "      <th>distance_count_7</th>\n",
       "      <th>distance_count_8</th>\n",
       "      <th>distance_count_9</th>\n",
       "      <th>distance_count_10</th>\n",
       "      <th>distance_count_11</th>\n",
       "      <th>distance_count_12</th>\n",
       "      <th>distance_sum_1</th>\n",
       "      <th>distance_sum_2</th>\n",
       "      <th>distance_sum_3</th>\n",
       "      <th>distance_sum_4</th>\n",
       "      <th>distance_sum_5</th>\n",
       "      <th>distance_sum_6</th>\n",
       "      <th>distance_sum_7</th>\n",
       "      <th>distance_sum_8</th>\n",
       "      <th>distance_sum_9</th>\n",
       "      <th>distance_sum_10</th>\n",
       "      <th>distance_sum_11</th>\n",
       "      <th>distance_sum_12</th>\n",
       "      <th>duration_sum_1</th>\n",
       "      <th>duration_sum_2</th>\n",
       "      <th>duration_sum_3</th>\n",
       "      <th>duration_sum_4</th>\n",
       "      <th>duration_sum_5</th>\n",
       "      <th>duration_sum_6</th>\n",
       "      <th>duration_sum_7</th>\n",
       "      <th>duration_sum_8</th>\n",
       "      <th>duration_sum_9</th>\n",
       "      <th>duration_sum_10</th>\n",
       "      <th>duration_sum_11</th>\n",
       "      <th>duration_sum_12</th>\n",
       "      <th>subscription_type</th>\n",
       "      <th>minute_price</th>\n",
       "      <th>start_ride_price</th>\n",
       "      <th>subscription_fee</th>\n",
       "      <th>revenue_1</th>\n",
       "      <th>revenue_2</th>\n",
       "      <th>revenue_3</th>\n",
       "      <th>revenue_4</th>\n",
       "      <th>revenue_5</th>\n",
       "      <th>revenue_6</th>\n",
       "      <th>revenue_7</th>\n",
       "      <th>revenue_8</th>\n",
       "      <th>revenue_9</th>\n",
       "      <th>revenue_10</th>\n",
       "      <th>revenue_11</th>\n",
       "      <th>revenue_12</th>\n",
       "    </tr>\n",
       "  </thead>\n",
       "  <tbody>\n",
       "    <tr>\n",
       "      <th>0</th>\n",
       "      <td>1</td>\n",
       "      <td>2</td>\n",
       "      <td>0</td>\n",
       "      <td>0</td>\n",
       "      <td>1</td>\n",
       "      <td>0</td>\n",
       "      <td>0</td>\n",
       "      <td>0</td>\n",
       "      <td>2</td>\n",
       "      <td>0</td>\n",
       "      <td>2</td>\n",
       "      <td>3</td>\n",
       "      <td>2</td>\n",
       "      <td>7028</td>\n",
       "      <td>0</td>\n",
       "      <td>0</td>\n",
       "      <td>755</td>\n",
       "      <td>0</td>\n",
       "      <td>0</td>\n",
       "      <td>0</td>\n",
       "      <td>6724</td>\n",
       "      <td>0</td>\n",
       "      <td>5811</td>\n",
       "      <td>7005</td>\n",
       "      <td>6753</td>\n",
       "      <td>42</td>\n",
       "      <td>0</td>\n",
       "      <td>0</td>\n",
       "      <td>7</td>\n",
       "      <td>0</td>\n",
       "      <td>0</td>\n",
       "      <td>0</td>\n",
       "      <td>46</td>\n",
       "      <td>0</td>\n",
       "      <td>32</td>\n",
       "      <td>56</td>\n",
       "      <td>28</td>\n",
       "      <td>ultra</td>\n",
       "      <td>6</td>\n",
       "      <td>0</td>\n",
       "      <td>199</td>\n",
       "      <td>451</td>\n",
       "      <td>199</td>\n",
       "      <td>199</td>\n",
       "      <td>241</td>\n",
       "      <td>199</td>\n",
       "      <td>199</td>\n",
       "      <td>199</td>\n",
       "      <td>475</td>\n",
       "      <td>199</td>\n",
       "      <td>391</td>\n",
       "      <td>535</td>\n",
       "      <td>367</td>\n",
       "    </tr>\n",
       "    <tr>\n",
       "      <th>1</th>\n",
       "      <td>2</td>\n",
       "      <td>0</td>\n",
       "      <td>0</td>\n",
       "      <td>3</td>\n",
       "      <td>2</td>\n",
       "      <td>0</td>\n",
       "      <td>1</td>\n",
       "      <td>2</td>\n",
       "      <td>1</td>\n",
       "      <td>0</td>\n",
       "      <td>1</td>\n",
       "      <td>0</td>\n",
       "      <td>1</td>\n",
       "      <td>0</td>\n",
       "      <td>0</td>\n",
       "      <td>10190</td>\n",
       "      <td>6165</td>\n",
       "      <td>0</td>\n",
       "      <td>3256</td>\n",
       "      <td>6781</td>\n",
       "      <td>924</td>\n",
       "      <td>0</td>\n",
       "      <td>2825</td>\n",
       "      <td>0</td>\n",
       "      <td>3829</td>\n",
       "      <td>0</td>\n",
       "      <td>0</td>\n",
       "      <td>63</td>\n",
       "      <td>40</td>\n",
       "      <td>0</td>\n",
       "      <td>14</td>\n",
       "      <td>48</td>\n",
       "      <td>7</td>\n",
       "      <td>0</td>\n",
       "      <td>19</td>\n",
       "      <td>0</td>\n",
       "      <td>12</td>\n",
       "      <td>ultra</td>\n",
       "      <td>6</td>\n",
       "      <td>0</td>\n",
       "      <td>199</td>\n",
       "      <td>199</td>\n",
       "      <td>199</td>\n",
       "      <td>577</td>\n",
       "      <td>439</td>\n",
       "      <td>199</td>\n",
       "      <td>283</td>\n",
       "      <td>487</td>\n",
       "      <td>241</td>\n",
       "      <td>199</td>\n",
       "      <td>313</td>\n",
       "      <td>199</td>\n",
       "      <td>271</td>\n",
       "    </tr>\n",
       "    <tr>\n",
       "      <th>2</th>\n",
       "      <td>3</td>\n",
       "      <td>1</td>\n",
       "      <td>2</td>\n",
       "      <td>0</td>\n",
       "      <td>1</td>\n",
       "      <td>3</td>\n",
       "      <td>0</td>\n",
       "      <td>3</td>\n",
       "      <td>0</td>\n",
       "      <td>1</td>\n",
       "      <td>0</td>\n",
       "      <td>0</td>\n",
       "      <td>1</td>\n",
       "      <td>3062</td>\n",
       "      <td>5422</td>\n",
       "      <td>0</td>\n",
       "      <td>2957</td>\n",
       "      <td>9065</td>\n",
       "      <td>0</td>\n",
       "      <td>10921</td>\n",
       "      <td>0</td>\n",
       "      <td>2892</td>\n",
       "      <td>0</td>\n",
       "      <td>0</td>\n",
       "      <td>2594</td>\n",
       "      <td>13</td>\n",
       "      <td>39</td>\n",
       "      <td>0</td>\n",
       "      <td>21</td>\n",
       "      <td>63</td>\n",
       "      <td>0</td>\n",
       "      <td>67</td>\n",
       "      <td>0</td>\n",
       "      <td>23</td>\n",
       "      <td>0</td>\n",
       "      <td>0</td>\n",
       "      <td>13</td>\n",
       "      <td>ultra</td>\n",
       "      <td>6</td>\n",
       "      <td>0</td>\n",
       "      <td>199</td>\n",
       "      <td>277</td>\n",
       "      <td>433</td>\n",
       "      <td>199</td>\n",
       "      <td>325</td>\n",
       "      <td>577</td>\n",
       "      <td>199</td>\n",
       "      <td>601</td>\n",
       "      <td>199</td>\n",
       "      <td>337</td>\n",
       "      <td>199</td>\n",
       "      <td>199</td>\n",
       "      <td>277</td>\n",
       "    </tr>\n",
       "    <tr>\n",
       "      <th>3</th>\n",
       "      <td>4</td>\n",
       "      <td>0</td>\n",
       "      <td>2</td>\n",
       "      <td>0</td>\n",
       "      <td>0</td>\n",
       "      <td>0</td>\n",
       "      <td>2</td>\n",
       "      <td>3</td>\n",
       "      <td>1</td>\n",
       "      <td>0</td>\n",
       "      <td>4</td>\n",
       "      <td>2</td>\n",
       "      <td>0</td>\n",
       "      <td>0</td>\n",
       "      <td>6341</td>\n",
       "      <td>0</td>\n",
       "      <td>0</td>\n",
       "      <td>0</td>\n",
       "      <td>6754</td>\n",
       "      <td>10492</td>\n",
       "      <td>4650</td>\n",
       "      <td>0</td>\n",
       "      <td>13263</td>\n",
       "      <td>3344</td>\n",
       "      <td>0</td>\n",
       "      <td>0</td>\n",
       "      <td>49</td>\n",
       "      <td>0</td>\n",
       "      <td>0</td>\n",
       "      <td>0</td>\n",
       "      <td>45</td>\n",
       "      <td>56</td>\n",
       "      <td>36</td>\n",
       "      <td>0</td>\n",
       "      <td>79</td>\n",
       "      <td>28</td>\n",
       "      <td>0</td>\n",
       "      <td>ultra</td>\n",
       "      <td>6</td>\n",
       "      <td>0</td>\n",
       "      <td>199</td>\n",
       "      <td>199</td>\n",
       "      <td>493</td>\n",
       "      <td>199</td>\n",
       "      <td>199</td>\n",
       "      <td>199</td>\n",
       "      <td>469</td>\n",
       "      <td>535</td>\n",
       "      <td>415</td>\n",
       "      <td>199</td>\n",
       "      <td>673</td>\n",
       "      <td>367</td>\n",
       "      <td>199</td>\n",
       "    </tr>\n",
       "    <tr>\n",
       "      <th>4</th>\n",
       "      <td>5</td>\n",
       "      <td>1</td>\n",
       "      <td>1</td>\n",
       "      <td>3</td>\n",
       "      <td>1</td>\n",
       "      <td>2</td>\n",
       "      <td>0</td>\n",
       "      <td>1</td>\n",
       "      <td>1</td>\n",
       "      <td>0</td>\n",
       "      <td>1</td>\n",
       "      <td>0</td>\n",
       "      <td>0</td>\n",
       "      <td>3915</td>\n",
       "      <td>2562</td>\n",
       "      <td>10635</td>\n",
       "      <td>3374</td>\n",
       "      <td>5825</td>\n",
       "      <td>0</td>\n",
       "      <td>3312</td>\n",
       "      <td>2721</td>\n",
       "      <td>0</td>\n",
       "      <td>3219</td>\n",
       "      <td>0</td>\n",
       "      <td>0</td>\n",
       "      <td>13</td>\n",
       "      <td>12</td>\n",
       "      <td>57</td>\n",
       "      <td>15</td>\n",
       "      <td>33</td>\n",
       "      <td>0</td>\n",
       "      <td>12</td>\n",
       "      <td>18</td>\n",
       "      <td>0</td>\n",
       "      <td>20</td>\n",
       "      <td>0</td>\n",
       "      <td>0</td>\n",
       "      <td>ultra</td>\n",
       "      <td>6</td>\n",
       "      <td>0</td>\n",
       "      <td>199</td>\n",
       "      <td>277</td>\n",
       "      <td>271</td>\n",
       "      <td>541</td>\n",
       "      <td>289</td>\n",
       "      <td>397</td>\n",
       "      <td>199</td>\n",
       "      <td>271</td>\n",
       "      <td>307</td>\n",
       "      <td>199</td>\n",
       "      <td>319</td>\n",
       "      <td>199</td>\n",
       "      <td>199</td>\n",
       "    </tr>\n",
       "  </tbody>\n",
       "</table>\n",
       "</div>"
      ],
      "text/plain": [
       "   user_id  distance_count_1  distance_count_2  distance_count_3  \\\n",
       "0        1                 2                 0                 0   \n",
       "1        2                 0                 0                 3   \n",
       "2        3                 1                 2                 0   \n",
       "3        4                 0                 2                 0   \n",
       "4        5                 1                 1                 3   \n",
       "\n",
       "   distance_count_4  distance_count_5  distance_count_6  distance_count_7  \\\n",
       "0                 1                 0                 0                 0   \n",
       "1                 2                 0                 1                 2   \n",
       "2                 1                 3                 0                 3   \n",
       "3                 0                 0                 2                 3   \n",
       "4                 1                 2                 0                 1   \n",
       "\n",
       "   distance_count_8  distance_count_9  distance_count_10  distance_count_11  \\\n",
       "0                 2                 0                  2                  3   \n",
       "1                 1                 0                  1                  0   \n",
       "2                 0                 1                  0                  0   \n",
       "3                 1                 0                  4                  2   \n",
       "4                 1                 0                  1                  0   \n",
       "\n",
       "   distance_count_12  distance_sum_1  distance_sum_2  distance_sum_3  \\\n",
       "0                  2            7028               0               0   \n",
       "1                  1               0               0           10190   \n",
       "2                  1            3062            5422               0   \n",
       "3                  0               0            6341               0   \n",
       "4                  0            3915            2562           10635   \n",
       "\n",
       "   distance_sum_4  distance_sum_5  distance_sum_6  distance_sum_7  \\\n",
       "0             755               0               0               0   \n",
       "1            6165               0            3256            6781   \n",
       "2            2957            9065               0           10921   \n",
       "3               0               0            6754           10492   \n",
       "4            3374            5825               0            3312   \n",
       "\n",
       "   distance_sum_8  distance_sum_9  distance_sum_10  distance_sum_11  \\\n",
       "0            6724               0             5811             7005   \n",
       "1             924               0             2825                0   \n",
       "2               0            2892                0                0   \n",
       "3            4650               0            13263             3344   \n",
       "4            2721               0             3219                0   \n",
       "\n",
       "   distance_sum_12  duration_sum_1  duration_sum_2  duration_sum_3  \\\n",
       "0             6753              42               0               0   \n",
       "1             3829               0               0              63   \n",
       "2             2594              13              39               0   \n",
       "3                0               0              49               0   \n",
       "4                0              13              12              57   \n",
       "\n",
       "   duration_sum_4  duration_sum_5  duration_sum_6  duration_sum_7  \\\n",
       "0               7               0               0               0   \n",
       "1              40               0              14              48   \n",
       "2              21              63               0              67   \n",
       "3               0               0              45              56   \n",
       "4              15              33               0              12   \n",
       "\n",
       "   duration_sum_8  duration_sum_9  duration_sum_10  duration_sum_11  \\\n",
       "0              46               0               32               56   \n",
       "1               7               0               19                0   \n",
       "2               0              23                0                0   \n",
       "3              36               0               79               28   \n",
       "4              18               0               20                0   \n",
       "\n",
       "   duration_sum_12 subscription_type  minute_price  start_ride_price  \\\n",
       "0               28             ultra             6                 0   \n",
       "1               12             ultra             6                 0   \n",
       "2               13             ultra             6                 0   \n",
       "3                0             ultra             6                 0   \n",
       "4                0             ultra             6                 0   \n",
       "\n",
       "   subscription_fee  revenue_1  revenue_2  revenue_3  revenue_4  revenue_5  \\\n",
       "0               199        451        199        199        241        199   \n",
       "1               199        199        199        577        439        199   \n",
       "2               199        277        433        199        325        577   \n",
       "3               199        199        493        199        199        199   \n",
       "4               199        277        271        541        289        397   \n",
       "\n",
       "   revenue_6  revenue_7  revenue_8  revenue_9  revenue_10  revenue_11  \\\n",
       "0        199        199        475        199         391         535   \n",
       "1        283        487        241        199         313         199   \n",
       "2        199        601        199        337         199         199   \n",
       "3        469        535        415        199         673         367   \n",
       "4        199        271        307        199         319         199   \n",
       "\n",
       "   revenue_12  \n",
       "0         367  \n",
       "1         271  \n",
       "2         277  \n",
       "3         199  \n",
       "4         199  "
      ]
     },
     "execution_count": 42,
     "metadata": {},
     "output_type": "execute_result"
    }
   ],
   "source": [
    "for i in range(1, 13):\n",
    "    final_table[f'revenue_{i}'] = (final_table['start_ride_price'] * final_table[f'distance_count_{i}']) + \\\n",
    "                                    (final_table['minute_price'] * final_table[f'duration_sum_{i}']) + \\\n",
    "                                    final_table['subscription_fee']\n",
    "final_table.head(5)"
   ]
  },
  {
   "cell_type": "markdown",
   "id": "aaf012e4-1417-46a5-a3d9-79e957f264fc",
   "metadata": {},
   "source": [
    "#### Шаг 6. Проверка гипотез"
   ]
  },
  {
   "cell_type": "markdown",
   "id": "e18df100-fa6c-422d-a0b6-87642d27b0fc",
   "metadata": {},
   "source": [
    "Нужно понять, тратят ли пользователи с подпиской больше времени на поездки, чем пользователи без подписки? Формулирую гипотезы:<br>\n",
    "**Н0: средние длительности поездок пользователей из двух групп равны.<br>\n",
    "H1: среднее значение длительности поездки пользователей с подпиской больше, чем среднее значение длительности поездки пользователей без подписки.**"
   ]
  },
  {
   "cell_type": "code",
   "execution_count": 43,
   "id": "aee6ef4b-c528-4f25-a041-7f84f1b90dca",
   "metadata": {},
   "outputs": [],
   "source": [
    "free_series = data_merged.loc[data_merged['subscription_type'] == 'free', 'duration']\n",
    "ultra_series = data_merged.loc[data_merged['subscription_type'] == 'ultra', 'duration'] #формирую две совокупности"
   ]
  },
  {
   "cell_type": "markdown",
   "id": "5cd07cc8-2a84-4196-b8a7-3d7a14f842c6",
   "metadata": {},
   "source": [
    "Для того, чтоб проверить их дисперсии, проведу тест Левене."
   ]
  },
  {
   "cell_type": "code",
   "execution_count": 45,
   "id": "59df080d-3098-4c28-ba17-e545467a6424",
   "metadata": {},
   "outputs": [
    {
     "name": "stdout",
     "output_type": "stream",
     "text": [
      "Statistic: 101.3208376241293\n",
      "p-value: 9.044209262913687e-24\n",
      "Отвергаем нулевую гипотезу: дисперсии различаются.\n"
     ]
    }
   ],
   "source": [
    "statistic, p_value = levene(free_series, ultra_series)\n",
    "print(\"Statistic:\", statistic)\n",
    "print(\"p-value:\", p_value)\n",
    "if p_value > 0.05:\n",
    "    print(\"Не удалось отвергнуть нулевую гипотезу: дисперсии равны.\")\n",
    "else:\n",
    "    print(\"Отвергаем нулевую гипотезу: дисперсии различаются.\")"
   ]
  },
  {
   "cell_type": "markdown",
   "id": "881f3524-4fbe-4aa2-86bd-7557fe12a432",
   "metadata": {},
   "source": [
    "Разность дисперсий нужно учесть при проверке гипотез."
   ]
  },
  {
   "cell_type": "code",
   "execution_count": 47,
   "id": "95437dbe-3ac9-4b4a-ad27-820cf6ab0f70",
   "metadata": {},
   "outputs": [
    {
     "name": "stdout",
     "output_type": "stream",
     "text": [
      "p-value: 0.00000000000000000000000000003086332093\n",
      "Отвергаем нулевую гипотезу\n"
     ]
    }
   ],
   "source": [
    "alpha = 0.005\n",
    "results = st.ttest_ind(ultra_series, free_series, equal_var=False, alternative='greater')\n",
    "print(f'p-value: {results.pvalue:.38f}')\n",
    "if results.pvalue < alpha:\n",
    "    \n",
    "    print('Отвергаем нулевую гипотезу')\n",
    "else:\n",
    "    print('Нет оснований отвергнуть нулевую гипотезу')"
   ]
  },
  {
   "cell_type": "markdown",
   "id": "1d9b8d08-6708-4f60-b9a8-e4f139c5291c",
   "metadata": {},
   "source": [
    "Столь малое p-value говорит о том, что вероятность получить равные средние длительности (получить их разность равную нулю) крайне мала, а вероятность получить такой результат случайно крайне низка. На этом основании нулевая гипотеза отвергается в пользу альтернативной, из чего можно сделать вывод, что среднее значение длительности поездки у пользователей с подпиской будет выше."
   ]
  },
  {
   "cell_type": "markdown",
   "id": "e051f272-9b7c-4cbb-8aac-310c0b21b665",
   "metadata": {},
   "source": [
    "Второй вопрос звучит так: Расстояние одной поездки в 3130 метров — оптимальное с точки зрения износа самоката. Можно ли сказать, что расстояние, которое проезжают пользователи с подпиской за одну поездку, не превышает 3130 метров? Формулирую гипотезы:<br>\n",
    "**H0: среднее расстояние, которое проезжают пользователи с подпиской, равно 3130 метров.<br>\n",
    "H1: среднее расстояние, которое проезжают пользователи с подпиской, меньше 3130 метров.**"
   ]
  },
  {
   "cell_type": "code",
   "execution_count": 48,
   "id": "956adb50-3c8c-4fd7-a51e-53aa99a2bb1f",
   "metadata": {},
   "outputs": [],
   "source": [
    "distance_series = data_merged.loc[data_merged['subscription_type'] == 'ultra', 'distance'] #формирую выборку"
   ]
  },
  {
   "cell_type": "code",
   "execution_count": 51,
   "id": "c898cb40-95a2-47e2-93af-99fa4a0251dc",
   "metadata": {},
   "outputs": [
    {
     "name": "stdout",
     "output_type": "stream",
     "text": [
      "p-value: 0.088\n",
      "Нет оснований отвергнуть нулевую гипотезу\n"
     ]
    }
   ],
   "source": [
    "optimal_distance = 3130\n",
    "alpha = 0.05\n",
    "results = st.ttest_1samp(distance_series, optimal_distance, alternative='less')\n",
    "print(f'p-value: {results.pvalue:.3f}')\n",
    "if results.pvalue < alpha:\n",
    "    print('Отвергаем нулевую гипотезу')\n",
    "else:\n",
    "    print('Нет оснований отвергнуть нулевую гипотезу')"
   ]
  },
  {
   "cell_type": "markdown",
   "id": "8da1ec57-1e3c-4060-8374-06b9ede9b16e",
   "metadata": {},
   "source": [
    "Значение p-value говорит о том, что вероятность получить наблюдаемое значение 3130 или ещё более далёкое от наблюдаемого в меньшую сторону при условии, что нулевая гипотеза верна, составляет 8.8%. Учитывая выбранный уровень статистической значимости 5%, нет достаточных оснований отвергнуть нулевую гипотезу. Таким образом, нельзя сделать вывод о том, что расстояние, которое проезжают пользователи с подпиской за одну поездку, меньше 3130 метров."
   ]
  },
  {
   "cell_type": "markdown",
   "id": "57a18ef6-1a3e-44c6-abb1-7323d03cea66",
   "metadata": {},
   "source": [
    "Далее нужно проверить гипотезу о том, будет ли помесячная выручка от пользователей с подпиской по месяцам выше, чем выручка от пользователей без подписки.<br>\n",
    "**H0: средняя помесячная выручка от пользователей с подпиской и от пользователей без подписки равны.<br>\n",
    "H1: средняя помесячная выручка от пользователей с подпиской выше, чем от пользователей без подписки.**"
   ]
  },
  {
   "cell_type": "code",
   "execution_count": 52,
   "id": "6011b3f9-e014-475d-a1d3-9ac8363622e2",
   "metadata": {},
   "outputs": [],
   "source": [
    "revenue_columns = [f'revenue_{i}' for i in range(1, 13)] + ['subscription_type']\n",
    "revenue_table = final_table[revenue_columns] #формирую таблицу, где будут только значения выручки и тип подписки"
   ]
  },
  {
   "cell_type": "code",
   "execution_count": 53,
   "id": "ecf6ac2c-21f8-4d71-bcf9-ba7e06d09fa2",
   "metadata": {},
   "outputs": [],
   "source": [
    "free_revenue = revenue_table.loc[revenue_table['subscription_type'] == 'free', [f'revenue_{i}' for i in range(1, 13)]]\n",
    "ultra_revenue = revenue_table.loc[revenue_table['subscription_type'] == 'ultra', [f'revenue_{i}' for i in range(1, 13)]]"
   ]
  },
  {
   "cell_type": "markdown",
   "id": "94170cee-908b-4d3d-9b18-82392f84c471",
   "metadata": {},
   "source": [
    "Получил два датафрейма с данными о выручке. Нужно привести их к какому-то формату, который примет метод st.ttest. Проще всего преобразовать их в массив NumPy. Проверю их дисперсии."
   ]
  },
  {
   "cell_type": "code",
   "execution_count": 55,
   "id": "d501baa4-2084-495f-97e5-34787498d158",
   "metadata": {},
   "outputs": [],
   "source": [
    "free_array = free_revenue.to_numpy().flatten()\n",
    "ultra_array = ultra_revenue.to_numpy().flatten()"
   ]
  },
  {
   "cell_type": "code",
   "execution_count": 56,
   "id": "0a1e27a6-1985-45fb-967f-06eed240d752",
   "metadata": {},
   "outputs": [
    {
     "name": "stdout",
     "output_type": "stream",
     "text": [
      "Statistic: 2683.0124526134878\n",
      "p-value: 0.0\n",
      "Отвергаем нулевую гипотезу: дисперсии различаются.\n"
     ]
    }
   ],
   "source": [
    "statistic, p_value = levene(free_array, ultra_array)\n",
    "print(\"Statistic:\", statistic)\n",
    "print(\"p-value:\", p_value)\n",
    "if p_value > 0.05:\n",
    "    print(\"Не удалось отвергнуть нулевую гипотезу: дисперсии равны.\")\n",
    "else:\n",
    "    print(\"Отвергаем нулевую гипотезу: дисперсии различаются.\")"
   ]
  },
  {
   "cell_type": "code",
   "execution_count": 57,
   "id": "ee905a38-245c-4f72-8581-ab03291ab0c0",
   "metadata": {},
   "outputs": [
    {
     "name": "stdout",
     "output_type": "stream",
     "text": [
      "p-value: 4.563428342645078e-154\n",
      "Отвергаем нулевую гипотезу\n"
     ]
    }
   ],
   "source": [
    "alpha = 0.005\n",
    "results = st.ttest_ind(ultra_array, free_array, equal_var=False, alternative='greater')\n",
    "p_value = float(results.pvalue)\n",
    "print(f'p-value: {p_value}')\n",
    "if p_value < alpha:\n",
    "    print('Отвергаем нулевую гипотезу')\n",
    "else:\n",
    "    print('Нет оснований отвергнуть нулевую гипотезу')"
   ]
  },
  {
   "cell_type": "markdown",
   "id": "5cf2ed53-a7c2-41de-a33d-18ebf30b7076",
   "metadata": {},
   "source": [
    "Малое p-value указывает на то, что вероятность получить равенство средних показателей выручки двух групп пользователей крайне мала, при условии верности нулевой гипотезы. На основании этого она отвергается в пользу альтернативной. Таким образом, можно предположить, что именно подписочная модель приводит к более высокой помесячной выручке."
   ]
  },
  {
   "cell_type": "markdown",
   "id": "feabfb1b-5a9f-4924-b94a-b5df5b35d4ac",
   "metadata": {},
   "source": [
    "#### Шаг 7. Теоретические вопросы"
   ]
  },
  {
   "cell_type": "markdown",
   "id": "7ab66f12-6c70-44ec-9ade-ee960dde72b0",
   "metadata": {},
   "source": [
    "**Вопрос:** Представьте такую ситуацию: техническая команда сервиса обновила сервера, с которыми взаимодействует мобильное приложение. Она надеется, что из-за этого количество обращений в техподдержку значимо снизилось. Некоторый файл содержит для каждого пользователя данные о количестве обращений до обновления и после него. Какой тест вам понадобился бы для проверки этой гипотезы?"
   ]
  },
  {
   "cell_type": "markdown",
   "id": "1e24e806-3e5b-44f4-803e-f63cb641ef27",
   "metadata": {},
   "source": [
    "**Ответ:** В данном случае нужен тест проверки гипотезы о равенстве средних для зависимых (парных) выборок. Парная выборка означает, что некоторая переменная измеряется дважды для одних и тех же объектов. В данном случае это пара измерений для количества обращений каждого пользователя - до и после обновления. Гипотезы формулируются, например, так:<br>\n",
    "H0: среднее количество обращений в техподдержку до обновления серверов равно среднему количеству обращений после обновления. <br>\n",
    "H1: cреднее количество обращений в техподдержку после обновления серверов меньше, чем среднее количество обращений до обновления. <br>\n",
    "Для проведения этого теста используется метод scipy.stats.ttest_rel() из библиотеки SciPy."
   ]
  },
  {
   "cell_type": "markdown",
   "id": "b25f2045-7512-4d9d-8928-92d8c6d2cc34",
   "metadata": {},
   "source": [
    "**Вопрос:** Отделу маркетинга GoFast поставили задачу: нужно провести акцию с раздачей промокодов на один бесплатный месяц подписки, в рамках которой как минимум 100 существующих клиентов должны продлить эту подписку. То есть по завершении периода действия подписки пользователь может либо отказаться от неё, либо продлить, совершив соответствующий платёж. \n",
    "Эта акция уже проводилась ранее и по итогу выяснилось, что после бесплатного пробного периода подписку продлевают 10 % пользователей. Выясните, какое минимальное количество промокодов нужно разослать, чтобы вероятность не выполнить план была примерно 5 %. Подберите параметры распределения, описывающего эту ситуацию, постройте график распределения и сформулируйте ответ на вопрос о количестве промокодов."
   ]
  },
  {
   "cell_type": "code",
   "execution_count": 58,
   "id": "e72b3c06-0bc9-41b8-bfa8-8d337becdaf8",
   "metadata": {},
   "outputs": [
    {
     "name": "stdout",
     "output_type": "stream",
     "text": [
      "0.04976090094990249\n"
     ]
    }
   ],
   "source": [
    "p = 0.1\n",
    "n = 1161\n",
    "k = 99\n",
    "distr = st.binom(n, p)\n",
    "prob = distr.cdf(k)\n",
    "print(prob)"
   ]
  },
  {
   "cell_type": "markdown",
   "id": "ed61079d-4754-4f68-852c-b8c6f9a31e8a",
   "metadata": {},
   "source": [
    "**Ответ:** Данная ситуация описывается биноминальным распределением: клиент либо продляет подписку с вероятностью 10%, либо отказывается от неё с вероятностью 90%. Параметрами биноминального распределения являются: количество испытаний по схеме Бернулли - n и вероятность успеха в каждом испытании - p. Вероятность получить k успехов из n экспериментов рассчитывается по формуле:<br> (число сочетаний С из n по k) * (p** k) * (1 - p)** (n - k)<br>\n",
    "В данном случае известно число успехов k = 100 и вероятность успеха p = 0.1. Требуется подобрать такое n, при котором вероятность получить 100 успехов будет 95%. Метод cdf() получает на вход один аргумент и возвращает вероятность, что случайная величина примет значение, меньшее заданного аргумента. То есть если передать в метод cdf количество успехов k = 100, он вернёт вероятность с которой план не будет выполнен. Выше я просто руками подобрал, что нужно отправить как минимум 1161 промокодов, чтоб вероятность не выполнить план была примерно 5 %. Ниже заверну это в цикл."
   ]
  },
  {
   "cell_type": "code",
   "execution_count": 59,
   "id": "6c30f7ac-c626-49a5-b462-4430ac2516bc",
   "metadata": {},
   "outputs": [
    {
     "name": "stdout",
     "output_type": "stream",
     "text": [
      "Минимальное количество промокодов: 1161\n"
     ]
    }
   ],
   "source": [
    "target_prob = 0.05\n",
    "\n",
    "for n in range(1000, 2000): #исходя из p предположим, что нужно никак не меньше 1000 и не больше 2000 экспериментов\n",
    "    distr = st.binom(n, p)\n",
    "    prob = distr.cdf(k)\n",
    "    if prob <= target_prob:\n",
    "        break\n",
    "\n",
    "print(\"Минимальное количество промокодов:\", n)"
   ]
  },
  {
   "cell_type": "markdown",
   "id": "36b69983-eaa7-4883-b250-f780388d0495",
   "metadata": {},
   "source": [
    "Теперь, зная искомое значение параметров, построю график кумулятивной функции биноминального распределения в диапазоне 500 - 1300 экспериментов, на котором видно, как уменьшается вероятность завалить план."
   ]
  },
  {
   "cell_type": "code",
   "execution_count": 60,
   "id": "1fd6b4fc-73e5-43fa-901d-122d5f1996f2",
   "metadata": {},
   "outputs": [
    {
     "data": {
      "image/png": "[encoded data removed]",
      "text/plain": [
       "<Figure size 640x480 with 1 Axes>"
      ]
     },
     "metadata": {},
     "output_type": "display_data"
    }
   ],
   "source": [
    "prob_list = []\n",
    "for n in range(500, 1300):\n",
    "    distr = st.binom(n, p)\n",
    "    prob = distr.cdf(k)\n",
    "    prob_list.append(prob)\n",
    "    \n",
    "plt.plot(range(500, n + 1), prob_list);"
   ]
  },
  {
   "cell_type": "markdown",
   "id": "d9651029-c39f-4107-ab92-73e92118a9e7",
   "metadata": {},
   "source": [
    " Также по заданным параметрам построю график нормального распределения вероятностей."
   ]
  },
  {
   "cell_type": "code",
   "execution_count": 63,
   "id": "39c3649f-3d9c-4aea-88f0-0679ba53fc56",
   "metadata": {},
   "outputs": [
    {
     "data": {
      "image/png": "[encoded data removed]",
      "text/plain": [
       "<Figure size 640x480 with 1 Axes>"
      ]
     },
     "metadata": {},
     "output_type": "display_data"
    }
   ],
   "source": [
    "n = 1161\n",
    "k = 99\n",
    "p = 0.1\n",
    "mu = n * p\n",
    "sigma = np.sqrt(n * p * (1 - p))\n",
    "x = np.linspace(mu - 4*sigma, mu + 4*sigma, 100)\n",
    "pdf = norm.pdf(x, mu, sigma)\n",
    "plt.plot(x, pdf, color='blue');"
   ]
  },
  {
   "cell_type": "code",
   "execution_count": null,
   "id": "d31810bd-32e9-45c9-aa6a-b09e2763e847",
   "metadata": {},
   "outputs": [],
   "source": []
  }
 ],
 "metadata": {
  "kernelspec": {
   "display_name": "Python 3 (ipykernel)",
   "language": "python",
   "name": "python3"
  },
  "language_info": {
   "codemirror_mode": {
    "name": "ipython",
    "version": 3
   },
   "file_extension": ".py",
   "mimetype": "text/x-python",
   "name": "python",
   "nbconvert_exporter": "python",
   "pygments_lexer": "ipython3",
   "version": "3.9.18"
  }
 },
 "nbformat": 4,
 "nbformat_minor": 5
}

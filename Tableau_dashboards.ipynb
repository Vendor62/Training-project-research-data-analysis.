{
 "cells": [
  {
   "cell_type": "markdown",
   "id": "8f57ef81-a925-4f08-bbd5-a925c80325c4",
   "metadata": {},
   "source": [
    "# Проектная работа: построение дашбордов в Tableau"
   ]
  },
  {
   "cell_type": "markdown",
   "id": "d234f80b-3ebe-4e83-8810-d6ed72e8b14b",
   "metadata": {},
   "source": [
    "**Контекст:** TED (от англ. technology, education, design — «технологии, образование, дизайн») — некоммерческий фонд, который проводит популярные конференции. На них выступают специалисты из разных областей и читают лекции на актуальные социальные, культурные и научные темы."
   ]
  },
  {
   "cell_type": "markdown",
   "id": "a10dcca1-74df-4e65-bc3b-706d47c7d53b",
   "metadata": {},
   "source": [
    "**Цель исследования:** изучить историю TED-конференций с помощью Tableau, построить интерактивные визуализации и создать презентацию."
   ]
  },
  {
   "cell_type": "markdown",
   "id": "e03157ec-3752-4022-b139-ea3380d30de3",
   "metadata": {},
   "source": [
    "## Ссылка на презентацию"
   ]
  },
  {
   "cell_type": "markdown",
   "id": "4db75064-d277-4519-8bf1-b7c23920a221",
   "metadata": {},
   "source": [
    "https://public.tableau.com/views/TEDprojectpresentation/Story1?:language=en-US&publish=yes&:sid=&:redirect=auth&:display_count=n&:origin=viz_share_link"
   ]
  },
  {
   "cell_type": "code",
   "execution_count": null,
   "id": "73eab5be-caa0-4657-8af7-9a022734b1f1",
   "metadata": {},
   "outputs": [],
   "source": []
  }
 ],
 "metadata": {
  "kernelspec": {
   "display_name": "Python 3 (ipykernel)",
   "language": "python",
   "name": "python3"
  },
  "language_info": {
   "codemirror_mode": {
    "name": "ipython",
    "version": 3
   },
   "file_extension": ".py",
   "mimetype": "text/x-python",
   "name": "python",
   "nbconvert_exporter": "python",
   "pygments_lexer": "ipython3",
   "version": "3.9.19"
  }
 },
 "nbformat": 4,
 "nbformat_minor": 5
}
